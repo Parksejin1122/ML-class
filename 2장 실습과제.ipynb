{
 "cells": [
  {
   "cell_type": "markdown",
   "metadata": {},
   "source": [
    "# 182591 박세진 기계학습기초 과제"
   ]
  },
  {
   "cell_type": "markdown",
   "metadata": {
    "id": "jvCfBStwBTE2"
   },
   "source": [
    "## 기본 모듈 불러오기 및 설정 확인"
   ]
  },
  {
   "cell_type": "code",
   "execution_count": 372,
   "metadata": {
    "execution": {
     "iopub.execute_input": "2021-11-03T03:33:11.219363Z",
     "iopub.status.busy": "2021-11-03T03:33:11.218691Z",
     "iopub.status.idle": "2021-11-03T03:33:11.942839Z",
     "shell.execute_reply": "2021-11-03T03:33:11.941785Z"
    },
    "executionInfo": {
     "elapsed": 9,
     "status": "ok",
     "timestamp": 1647496660242,
     "user": {
      "displayName": "Hyung-jeong Yang",
      "photoUrl": "https://lh3.googleusercontent.com/a/default-user=s64",
      "userId": "02381304708881262053"
     },
     "user_tz": -540
    },
    "id": "Uk6VHJXwBTE3"
   },
   "outputs": [],
   "source": [
    "# 파이썬 ≥3.5 버전 확인\n",
    "import sys\n",
    "assert sys.version_info >= (3, 5)\n",
    "\n",
    "# 사이킷런 ≥0.20 버전 확인\n",
    "import sklearn\n",
    "assert sklearn.__version__ >= \"0.20\"\n",
    "\n",
    "# 넘파이 임포트  \n",
    "import numpy as np\n",
    "import os\n",
    "\n",
    "# 그래프 출력을 위해 matpolt 임포트\n",
    "%matplotlib inline\n",
    "import matplotlib as mpl\n",
    "import matplotlib.pyplot as plt\n",
    "mpl.rc('axes', labelsize=14)\n",
    "mpl.rc('xtick', labelsize=12)\n",
    "mpl.rc('ytick', labelsize=12)"
   ]
  },
  {
   "cell_type": "markdown",
   "metadata": {
    "id": "AIhCvluXBTE4"
   },
   "source": [
    "##  housing 데이터 다운로드하기"
   ]
  },
  {
   "cell_type": "code",
   "execution_count": 373,
   "metadata": {
    "execution": {
     "iopub.execute_input": "2021-11-03T03:33:11.949935Z",
     "iopub.status.busy": "2021-11-03T03:33:11.948263Z",
     "iopub.status.idle": "2021-11-03T03:33:11.952719Z",
     "shell.execute_reply": "2021-11-03T03:33:11.952179Z"
    },
    "executionInfo": {
     "elapsed": 1115,
     "status": "ok",
     "timestamp": 1647496661843,
     "user": {
      "displayName": "Hyung-jeong Yang",
      "photoUrl": "https://lh3.googleusercontent.com/a/default-user=s64",
      "userId": "02381304708881262053"
     },
     "user_tz": -540
    },
    "id": "omvmN12NBTE5"
   },
   "outputs": [],
   "source": [
    "import os\n",
    "import tarfile\n",
    "import urllib.request\n",
    "\n",
    "\n",
    "#housing 데이터 다운로드\n",
    "\n",
    "DOWNLOAD_ROOT = \"https://raw.githubusercontent.com/rickiepark/handson-ml2/master/\"\n",
    "HOUSING_PATH = os.path.join(\"datasets\", \"housing\")\n",
    "HOUSING_URL = DOWNLOAD_ROOT + \"datasets/housing/housing.tgz\"\n",
    "\n",
    "#hosuing 데이터 불러오는 함수 정의 \n",
    "def fetch_housing_data(housing_url=HOUSING_URL, housing_path=HOUSING_PATH):\n",
    "    if not os.path.isdir(housing_path):\n",
    "        os.makedirs(housing_path)\n",
    "    tgz_path = os.path.join(housing_path, \"housing.tgz\")\n",
    "    urllib.request.urlretrieve(housing_url, tgz_path)\n",
    "    housing_tgz = tarfile.open(tgz_path)\n",
    "    housing_tgz.extractall(path=housing_path)\n",
    "    housing_tgz.close()\n",
    "    \n",
    "#정의한 함수로 데이터 불러오기    \n",
    "fetch_housing_data()"
   ]
  },
  {
   "cell_type": "code",
   "execution_count": 374,
   "metadata": {
    "execution": {
     "iopub.execute_input": "2021-11-03T03:33:13.583831Z",
     "iopub.status.busy": "2021-11-03T03:33:13.582631Z",
     "iopub.status.idle": "2021-11-03T03:33:14.164232Z",
     "shell.execute_reply": "2021-11-03T03:33:14.165056Z"
    },
    "executionInfo": {
     "elapsed": 53,
     "status": "ok",
     "timestamp": 1647496661847,
     "user": {
      "displayName": "Hyung-jeong Yang",
      "photoUrl": "https://lh3.googleusercontent.com/a/default-user=s64",
      "userId": "02381304708881262053"
     },
     "user_tz": -540
    },
    "id": "cLMw6Q28BTE6"
   },
   "outputs": [],
   "source": [
    "#데이터를 편하게 다루기 위해 판다스 가져오기\n",
    "import pandas as pd\n",
    "\n",
    "#판다스로 housing 데이터 읽기\n",
    "def load_housing_data(housing_path=HOUSING_PATH):\n",
    "    csv_path = os.path.join(housing_path, \"housing.csv\")\n",
    "    return pd.read_csv(csv_path)\n",
    "    \n",
    "#모든 데이터를 담은 판다스 데이터프레임 객체 반환"
   ]
  },
  {
   "cell_type": "markdown",
   "metadata": {
    "id": "JoZq6ioQBTE7"
   },
   "source": [
    "## housing을 자기 학번으로 변경하기"
   ]
  },
  {
   "cell_type": "code",
   "execution_count": 375,
   "metadata": {
    "colab": {
     "base_uri": "https://localhost:8080/",
     "height": 270
    },
    "execution": {
     "iopub.execute_input": "2021-11-03T03:33:14.173583Z",
     "iopub.status.busy": "2021-11-03T03:33:14.172612Z",
     "iopub.status.idle": "2021-11-03T03:33:14.220780Z",
     "shell.execute_reply": "2021-11-03T03:33:14.220191Z"
    },
    "executionInfo": {
     "elapsed": 54,
     "status": "ok",
     "timestamp": 1647496661849,
     "user": {
      "displayName": "Hyung-jeong Yang",
      "photoUrl": "https://lh3.googleusercontent.com/a/default-user=s64",
      "userId": "02381304708881262053"
     },
     "user_tz": -540
    },
    "id": "0u1jqKB4BTE7",
    "outputId": "b29d484e-a9b1-4916-9571-5b7a16367925",
    "scrolled": true
   },
   "outputs": [
    {
     "data": {
      "text/html": [
       "<div>\n",
       "<style scoped>\n",
       "    .dataframe tbody tr th:only-of-type {\n",
       "        vertical-align: middle;\n",
       "    }\n",
       "\n",
       "    .dataframe tbody tr th {\n",
       "        vertical-align: top;\n",
       "    }\n",
       "\n",
       "    .dataframe thead th {\n",
       "        text-align: right;\n",
       "    }\n",
       "</style>\n",
       "<table border=\"1\" class=\"dataframe\">\n",
       "  <thead>\n",
       "    <tr style=\"text-align: right;\">\n",
       "      <th></th>\n",
       "      <th>longitude</th>\n",
       "      <th>latitude</th>\n",
       "      <th>housing_median_age</th>\n",
       "      <th>total_rooms</th>\n",
       "      <th>total_bedrooms</th>\n",
       "      <th>population</th>\n",
       "      <th>households</th>\n",
       "      <th>median_income</th>\n",
       "      <th>median_house_value</th>\n",
       "      <th>ocean_proximity</th>\n",
       "    </tr>\n",
       "  </thead>\n",
       "  <tbody>\n",
       "    <tr>\n",
       "      <th>0</th>\n",
       "      <td>-122.23</td>\n",
       "      <td>37.88</td>\n",
       "      <td>41.0</td>\n",
       "      <td>880.0</td>\n",
       "      <td>129.0</td>\n",
       "      <td>322.0</td>\n",
       "      <td>126.0</td>\n",
       "      <td>8.3252</td>\n",
       "      <td>452600.0</td>\n",
       "      <td>NEAR BAY</td>\n",
       "    </tr>\n",
       "    <tr>\n",
       "      <th>1</th>\n",
       "      <td>-122.22</td>\n",
       "      <td>37.86</td>\n",
       "      <td>21.0</td>\n",
       "      <td>7099.0</td>\n",
       "      <td>1106.0</td>\n",
       "      <td>2401.0</td>\n",
       "      <td>1138.0</td>\n",
       "      <td>8.3014</td>\n",
       "      <td>358500.0</td>\n",
       "      <td>NEAR BAY</td>\n",
       "    </tr>\n",
       "    <tr>\n",
       "      <th>2</th>\n",
       "      <td>-122.24</td>\n",
       "      <td>37.85</td>\n",
       "      <td>52.0</td>\n",
       "      <td>1467.0</td>\n",
       "      <td>190.0</td>\n",
       "      <td>496.0</td>\n",
       "      <td>177.0</td>\n",
       "      <td>7.2574</td>\n",
       "      <td>352100.0</td>\n",
       "      <td>NEAR BAY</td>\n",
       "    </tr>\n",
       "    <tr>\n",
       "      <th>3</th>\n",
       "      <td>-122.25</td>\n",
       "      <td>37.85</td>\n",
       "      <td>52.0</td>\n",
       "      <td>1274.0</td>\n",
       "      <td>235.0</td>\n",
       "      <td>558.0</td>\n",
       "      <td>219.0</td>\n",
       "      <td>5.6431</td>\n",
       "      <td>341300.0</td>\n",
       "      <td>NEAR BAY</td>\n",
       "    </tr>\n",
       "    <tr>\n",
       "      <th>4</th>\n",
       "      <td>-122.25</td>\n",
       "      <td>37.85</td>\n",
       "      <td>52.0</td>\n",
       "      <td>1627.0</td>\n",
       "      <td>280.0</td>\n",
       "      <td>565.0</td>\n",
       "      <td>259.0</td>\n",
       "      <td>3.8462</td>\n",
       "      <td>342200.0</td>\n",
       "      <td>NEAR BAY</td>\n",
       "    </tr>\n",
       "  </tbody>\n",
       "</table>\n",
       "</div>"
      ],
      "text/plain": [
       "   longitude  latitude  housing_median_age  total_rooms  total_bedrooms  \\\n",
       "0    -122.23     37.88                41.0        880.0           129.0   \n",
       "1    -122.22     37.86                21.0       7099.0          1106.0   \n",
       "2    -122.24     37.85                52.0       1467.0           190.0   \n",
       "3    -122.25     37.85                52.0       1274.0           235.0   \n",
       "4    -122.25     37.85                52.0       1627.0           280.0   \n",
       "\n",
       "   population  households  median_income  median_house_value ocean_proximity  \n",
       "0       322.0       126.0         8.3252            452600.0        NEAR BAY  \n",
       "1      2401.0      1138.0         8.3014            358500.0        NEAR BAY  \n",
       "2       496.0       177.0         7.2574            352100.0        NEAR BAY  \n",
       "3       558.0       219.0         5.6431            341300.0        NEAR BAY  \n",
       "4       565.0       259.0         3.8462            342200.0        NEAR BAY  "
      ]
     },
     "execution_count": 375,
     "metadata": {},
     "output_type": "execute_result"
    }
   ],
   "source": [
    "\n",
    "#판다스로 불러온 데이터 \"p182591\" 학번에 넣어주기\n",
    "p182591 = load_housing_data()\n",
    "p182591.head()\n",
    "\n",
    "#데이터가 잘들어왔는지 head를 이용해 확인\n",
    "#각 행이 하나의 구역\n",
    "#10개의 특성이 있음을 확인\n",
    "#label은 median_house_value임을 확인\n"
   ]
  },
  {
   "cell_type": "code",
   "execution_count": 376,
   "metadata": {
    "colab": {
     "base_uri": "https://localhost:8080/"
    },
    "execution": {
     "iopub.execute_input": "2021-11-03T03:33:14.226550Z",
     "iopub.status.busy": "2021-11-03T03:33:14.225717Z",
     "iopub.status.idle": "2021-11-03T03:33:14.244807Z",
     "shell.execute_reply": "2021-11-03T03:33:14.245286Z"
    },
    "executionInfo": {
     "elapsed": 48,
     "status": "ok",
     "timestamp": 1647496661850,
     "user": {
      "displayName": "Hyung-jeong Yang",
      "photoUrl": "https://lh3.googleusercontent.com/a/default-user=s64",
      "userId": "02381304708881262053"
     },
     "user_tz": -540
    },
    "id": "4u4PxNVEBTE8",
    "outputId": "3f39bf44-8b79-4f1c-88d5-65518680c522"
   },
   "outputs": [
    {
     "name": "stdout",
     "output_type": "stream",
     "text": [
      "<class 'pandas.core.frame.DataFrame'>\n",
      "RangeIndex: 20640 entries, 0 to 20639\n",
      "Data columns (total 10 columns):\n",
      "longitude             20640 non-null float64\n",
      "latitude              20640 non-null float64\n",
      "housing_median_age    20640 non-null float64\n",
      "total_rooms           20640 non-null float64\n",
      "total_bedrooms        20433 non-null float64\n",
      "population            20640 non-null float64\n",
      "households            20640 non-null float64\n",
      "median_income         20640 non-null float64\n",
      "median_house_value    20640 non-null float64\n",
      "ocean_proximity       20640 non-null object\n",
      "dtypes: float64(9), object(1)\n",
      "memory usage: 1.6+ MB\n"
     ]
    }
   ],
   "source": [
    "p182591.info()\n",
    "# info를 이용하여 데이터에 대한 설명, 전체행의 수, 각 특성의 데이터 타입, null 갯수 확인\n",
    "# 이를 통해 total_bedrooms 에 null값이 있음을 확인\n",
    "# ocean_proximity만 object 카테고리 데이터임을 확임"
   ]
  },
  {
   "cell_type": "code",
   "execution_count": 377,
   "metadata": {
    "colab": {
     "base_uri": "https://localhost:8080/"
    },
    "execution": {
     "iopub.execute_input": "2021-11-03T03:33:14.248698Z",
     "iopub.status.busy": "2021-11-03T03:33:14.247808Z",
     "iopub.status.idle": "2021-11-03T03:33:14.254831Z",
     "shell.execute_reply": "2021-11-03T03:33:14.255301Z"
    },
    "executionInfo": {
     "elapsed": 39,
     "status": "ok",
     "timestamp": 1647496661855,
     "user": {
      "displayName": "Hyung-jeong Yang",
      "photoUrl": "https://lh3.googleusercontent.com/a/default-user=s64",
      "userId": "02381304708881262053"
     },
     "user_tz": -540
    },
    "id": "S7U6TjFUBTE8",
    "outputId": "1727d13c-f298-415b-8800-fe81b5b342b1"
   },
   "outputs": [
    {
     "data": {
      "text/plain": [
       "<1H OCEAN     9136\n",
       "INLAND        6551\n",
       "NEAR OCEAN    2658\n",
       "NEAR BAY      2290\n",
       "ISLAND           5\n",
       "Name: ocean_proximity, dtype: int64"
      ]
     },
     "execution_count": 377,
     "metadata": {},
     "output_type": "execute_result"
    }
   ],
   "source": [
    "# ocean_proximity의 카테고리 종류와 카테고리당 구역의 수 확인\n",
    "p182591[\"ocean_proximity\"].value_counts()"
   ]
  },
  {
   "cell_type": "code",
   "execution_count": 378,
   "metadata": {
    "colab": {
     "base_uri": "https://localhost:8080/",
     "height": 364
    },
    "execution": {
     "iopub.execute_input": "2021-11-03T03:33:14.258668Z",
     "iopub.status.busy": "2021-11-03T03:33:14.257790Z",
     "iopub.status.idle": "2021-11-03T03:33:14.296180Z",
     "shell.execute_reply": "2021-11-03T03:33:14.296614Z"
    },
    "executionInfo": {
     "elapsed": 34,
     "status": "ok",
     "timestamp": 1647496661857,
     "user": {
      "displayName": "Hyung-jeong Yang",
      "photoUrl": "https://lh3.googleusercontent.com/a/default-user=s64",
      "userId": "02381304708881262053"
     },
     "user_tz": -540
    },
    "id": "yuJRouRpBTE8",
    "outputId": "9bfec293-8e8a-4e45-fccf-5d33c5a84065"
   },
   "outputs": [
    {
     "data": {
      "text/html": [
       "<div>\n",
       "<style scoped>\n",
       "    .dataframe tbody tr th:only-of-type {\n",
       "        vertical-align: middle;\n",
       "    }\n",
       "\n",
       "    .dataframe tbody tr th {\n",
       "        vertical-align: top;\n",
       "    }\n",
       "\n",
       "    .dataframe thead th {\n",
       "        text-align: right;\n",
       "    }\n",
       "</style>\n",
       "<table border=\"1\" class=\"dataframe\">\n",
       "  <thead>\n",
       "    <tr style=\"text-align: right;\">\n",
       "      <th></th>\n",
       "      <th>longitude</th>\n",
       "      <th>latitude</th>\n",
       "      <th>housing_median_age</th>\n",
       "      <th>total_rooms</th>\n",
       "      <th>total_bedrooms</th>\n",
       "      <th>population</th>\n",
       "      <th>households</th>\n",
       "      <th>median_income</th>\n",
       "      <th>median_house_value</th>\n",
       "    </tr>\n",
       "  </thead>\n",
       "  <tbody>\n",
       "    <tr>\n",
       "      <th>count</th>\n",
       "      <td>20640.000000</td>\n",
       "      <td>20640.000000</td>\n",
       "      <td>20640.000000</td>\n",
       "      <td>20640.000000</td>\n",
       "      <td>20433.000000</td>\n",
       "      <td>20640.000000</td>\n",
       "      <td>20640.000000</td>\n",
       "      <td>20640.000000</td>\n",
       "      <td>20640.000000</td>\n",
       "    </tr>\n",
       "    <tr>\n",
       "      <th>mean</th>\n",
       "      <td>-119.569704</td>\n",
       "      <td>35.631861</td>\n",
       "      <td>28.639486</td>\n",
       "      <td>2635.763081</td>\n",
       "      <td>537.870553</td>\n",
       "      <td>1425.476744</td>\n",
       "      <td>499.539680</td>\n",
       "      <td>3.870671</td>\n",
       "      <td>206855.816909</td>\n",
       "    </tr>\n",
       "    <tr>\n",
       "      <th>std</th>\n",
       "      <td>2.003532</td>\n",
       "      <td>2.135952</td>\n",
       "      <td>12.585558</td>\n",
       "      <td>2181.615252</td>\n",
       "      <td>421.385070</td>\n",
       "      <td>1132.462122</td>\n",
       "      <td>382.329753</td>\n",
       "      <td>1.899822</td>\n",
       "      <td>115395.615874</td>\n",
       "    </tr>\n",
       "    <tr>\n",
       "      <th>min</th>\n",
       "      <td>-124.350000</td>\n",
       "      <td>32.540000</td>\n",
       "      <td>1.000000</td>\n",
       "      <td>2.000000</td>\n",
       "      <td>1.000000</td>\n",
       "      <td>3.000000</td>\n",
       "      <td>1.000000</td>\n",
       "      <td>0.499900</td>\n",
       "      <td>14999.000000</td>\n",
       "    </tr>\n",
       "    <tr>\n",
       "      <th>25%</th>\n",
       "      <td>-121.800000</td>\n",
       "      <td>33.930000</td>\n",
       "      <td>18.000000</td>\n",
       "      <td>1447.750000</td>\n",
       "      <td>296.000000</td>\n",
       "      <td>787.000000</td>\n",
       "      <td>280.000000</td>\n",
       "      <td>2.563400</td>\n",
       "      <td>119600.000000</td>\n",
       "    </tr>\n",
       "    <tr>\n",
       "      <th>50%</th>\n",
       "      <td>-118.490000</td>\n",
       "      <td>34.260000</td>\n",
       "      <td>29.000000</td>\n",
       "      <td>2127.000000</td>\n",
       "      <td>435.000000</td>\n",
       "      <td>1166.000000</td>\n",
       "      <td>409.000000</td>\n",
       "      <td>3.534800</td>\n",
       "      <td>179700.000000</td>\n",
       "    </tr>\n",
       "    <tr>\n",
       "      <th>75%</th>\n",
       "      <td>-118.010000</td>\n",
       "      <td>37.710000</td>\n",
       "      <td>37.000000</td>\n",
       "      <td>3148.000000</td>\n",
       "      <td>647.000000</td>\n",
       "      <td>1725.000000</td>\n",
       "      <td>605.000000</td>\n",
       "      <td>4.743250</td>\n",
       "      <td>264725.000000</td>\n",
       "    </tr>\n",
       "    <tr>\n",
       "      <th>max</th>\n",
       "      <td>-114.310000</td>\n",
       "      <td>41.950000</td>\n",
       "      <td>52.000000</td>\n",
       "      <td>39320.000000</td>\n",
       "      <td>6445.000000</td>\n",
       "      <td>35682.000000</td>\n",
       "      <td>6082.000000</td>\n",
       "      <td>15.000100</td>\n",
       "      <td>500001.000000</td>\n",
       "    </tr>\n",
       "  </tbody>\n",
       "</table>\n",
       "</div>"
      ],
      "text/plain": [
       "          longitude      latitude  housing_median_age   total_rooms  \\\n",
       "count  20640.000000  20640.000000        20640.000000  20640.000000   \n",
       "mean    -119.569704     35.631861           28.639486   2635.763081   \n",
       "std        2.003532      2.135952           12.585558   2181.615252   \n",
       "min     -124.350000     32.540000            1.000000      2.000000   \n",
       "25%     -121.800000     33.930000           18.000000   1447.750000   \n",
       "50%     -118.490000     34.260000           29.000000   2127.000000   \n",
       "75%     -118.010000     37.710000           37.000000   3148.000000   \n",
       "max     -114.310000     41.950000           52.000000  39320.000000   \n",
       "\n",
       "       total_bedrooms    population    households  median_income  \\\n",
       "count    20433.000000  20640.000000  20640.000000   20640.000000   \n",
       "mean       537.870553   1425.476744    499.539680       3.870671   \n",
       "std        421.385070   1132.462122    382.329753       1.899822   \n",
       "min          1.000000      3.000000      1.000000       0.499900   \n",
       "25%        296.000000    787.000000    280.000000       2.563400   \n",
       "50%        435.000000   1166.000000    409.000000       3.534800   \n",
       "75%        647.000000   1725.000000    605.000000       4.743250   \n",
       "max       6445.000000  35682.000000   6082.000000      15.000100   \n",
       "\n",
       "       median_house_value  \n",
       "count        20640.000000  \n",
       "mean        206855.816909  \n",
       "std         115395.615874  \n",
       "min          14999.000000  \n",
       "25%         119600.000000  \n",
       "50%         179700.000000  \n",
       "75%         264725.000000  \n",
       "max         500001.000000  "
      ]
     },
     "execution_count": 378,
     "metadata": {},
     "output_type": "execute_result"
    }
   ],
   "source": [
    "# descirbe를 이용하여 숫자형 특성의 요약정보 평균,표준편차,최소값,최대값 확인\n",
    "# 25%,50%,75% : 백위분에 속하는 하위부분의 값. 25%: housing_median_age가 18보다 작다, 50%: 29보다 작다\n",
    "p182591.describe()"
   ]
  },
  {
   "cell_type": "markdown",
   "metadata": {},
   "source": [
    "## 데이터 분포 출력해보기"
   ]
  },
  {
   "cell_type": "code",
   "execution_count": 379,
   "metadata": {
    "colab": {
     "base_uri": "https://localhost:8080/",
     "height": 520
    },
    "execution": {
     "iopub.execute_input": "2021-11-03T03:33:14.300168Z",
     "iopub.status.busy": "2021-11-03T03:33:14.299229Z",
     "iopub.status.idle": "2021-11-03T03:33:18.312132Z",
     "shell.execute_reply": "2021-11-03T03:33:18.312586Z"
    },
    "executionInfo": {
     "elapsed": 7373,
     "status": "ok",
     "timestamp": 1647496669199,
     "user": {
      "displayName": "Hyung-jeong Yang",
      "photoUrl": "https://lh3.googleusercontent.com/a/default-user=s64",
      "userId": "02381304708881262053"
     },
     "user_tz": -540
    },
    "id": "sXGjoqVgBTE8",
    "outputId": "0ac12e4f-991f-44de-8d99-c1624b38c82b",
    "scrolled": true
   },
   "outputs": [
    {
     "data": {
      "image/png": "[encoded data removed]",
      "text/plain": [
       "<Figure size 1440x1080 with 9 Axes>"
      ]
     },
     "metadata": {
      "needs_background": "light"
     },
     "output_type": "display_data"
    }
   ],
   "source": [
    "# 숫자형 특성에 대한 히스토그램, 주어진 값의 범위(x)에 속한 샘플수(y)\n",
    "\n",
    "%matplotlib inline\n",
    "\n",
    "# matpolt를 이용하여 그래프 그리기\n",
    "import matplotlib.pyplot as plt\n",
    "p182591.hist(bins=50, figsize=(20,15))\n",
    "plt.show()\n",
    "\n",
    "# 특성 1. median_income : 상한 15, 하한 0.5 (3은 3만 달러)\n",
    "# 특성 2. 특성인 housing_median age에서 상한값이 있어 최대값이 넙는 값 표현x\n",
    "# 특성 3 레이블인 median_house_value에서도 상한값 (500000)이 있어서 예측도 이값을 넘지 않게된다.\n",
    "# 특성 4. 전체적으로 특성들의 스케일이 모두 다르다\n",
    "# 특성 5 특성들의 히스토그램이 오른쪽으로 꼬리가 길다 패턴찾기가 어려워 분포 조정\n",
    "\n",
    "# 특성2 해결방안 - 한계값 밖의 정확한 값 알아내거나 훈련세트/테스트세트에서 제거한다.\n",
    "# 특성4 해결방안 - 스케일링으로 특성들의 스케일을 맞춰준다\n",
    "# 특성5 해결방안 - 히스토그램의 꼬리가 길면 패턴을 찾기가 어렵기 때문에 분포를 조정해 준다.\n"
   ]
  },
  {
   "cell_type": "markdown",
   "metadata": {
    "id": "qnN93lXFBTE9"
   },
   "source": [
    "## 테스트 세트 만들기"
   ]
  },
  {
   "cell_type": "code",
   "execution_count": 380,
   "metadata": {},
   "outputs": [],
   "source": [
    "#같은 값을 출력하기 위해 랜덤시드 설정\n",
    "np.random.seed(42)"
   ]
  },
  {
   "cell_type": "code",
   "execution_count": 381,
   "metadata": {
    "execution": {
     "iopub.execute_input": "2021-11-03T03:33:18.469951Z",
     "iopub.status.busy": "2021-11-03T03:33:18.469351Z",
     "iopub.status.idle": "2021-11-03T03:33:18.489933Z",
     "shell.execute_reply": "2021-11-03T03:33:18.490402Z"
    },
    "executionInfo": {
     "elapsed": 75,
     "status": "ok",
     "timestamp": 1647496669727,
     "user": {
      "displayName": "Hyung-jeong Yang",
      "photoUrl": "https://lh3.googleusercontent.com/a/default-user=s64",
      "userId": "02381304708881262053"
     },
     "user_tz": -540
    },
    "id": "upLaM9ABBTE_"
   },
   "outputs": [],
   "source": [
    "# 난수 초기값 지정 \n",
    "# 20%의 테스트, 80%의 훈련\n",
    "#사이킷런의 train_test_split을 이용하여 훈련세트와 테스트세트 분리 \n",
    "from sklearn.model_selection import train_test_split\n",
    "\n",
    "train_set, test_set = train_test_split(p182591, test_size=0.2, random_state=42)"
   ]
  },
  {
   "cell_type": "code",
   "execution_count": 382,
   "metadata": {
    "colab": {
     "base_uri": "https://localhost:8080/",
     "height": 270
    },
    "execution": {
     "iopub.execute_input": "2021-11-03T03:33:18.493295Z",
     "iopub.status.busy": "2021-11-03T03:33:18.492678Z",
     "iopub.status.idle": "2021-11-03T03:33:18.505507Z",
     "shell.execute_reply": "2021-11-03T03:33:18.506015Z"
    },
    "executionInfo": {
     "elapsed": 76,
     "status": "ok",
     "timestamp": 1647496669729,
     "user": {
      "displayName": "Hyung-jeong Yang",
      "photoUrl": "https://lh3.googleusercontent.com/a/default-user=s64",
      "userId": "02381304708881262053"
     },
     "user_tz": -540
    },
    "id": "HKBzW3iWBTFA",
    "outputId": "44acfcb3-23f9-4165-c8b4-f7de1e6850b9",
    "scrolled": true
   },
   "outputs": [
    {
     "data": {
      "text/html": [
       "<div>\n",
       "<style scoped>\n",
       "    .dataframe tbody tr th:only-of-type {\n",
       "        vertical-align: middle;\n",
       "    }\n",
       "\n",
       "    .dataframe tbody tr th {\n",
       "        vertical-align: top;\n",
       "    }\n",
       "\n",
       "    .dataframe thead th {\n",
       "        text-align: right;\n",
       "    }\n",
       "</style>\n",
       "<table border=\"1\" class=\"dataframe\">\n",
       "  <thead>\n",
       "    <tr style=\"text-align: right;\">\n",
       "      <th></th>\n",
       "      <th>longitude</th>\n",
       "      <th>latitude</th>\n",
       "      <th>housing_median_age</th>\n",
       "      <th>total_rooms</th>\n",
       "      <th>total_bedrooms</th>\n",
       "      <th>population</th>\n",
       "      <th>households</th>\n",
       "      <th>median_income</th>\n",
       "      <th>median_house_value</th>\n",
       "      <th>ocean_proximity</th>\n",
       "    </tr>\n",
       "  </thead>\n",
       "  <tbody>\n",
       "    <tr>\n",
       "      <th>20046</th>\n",
       "      <td>-119.01</td>\n",
       "      <td>36.06</td>\n",
       "      <td>25.0</td>\n",
       "      <td>1505.0</td>\n",
       "      <td>NaN</td>\n",
       "      <td>1392.0</td>\n",
       "      <td>359.0</td>\n",
       "      <td>1.6812</td>\n",
       "      <td>47700.0</td>\n",
       "      <td>INLAND</td>\n",
       "    </tr>\n",
       "    <tr>\n",
       "      <th>3024</th>\n",
       "      <td>-119.46</td>\n",
       "      <td>35.14</td>\n",
       "      <td>30.0</td>\n",
       "      <td>2943.0</td>\n",
       "      <td>NaN</td>\n",
       "      <td>1565.0</td>\n",
       "      <td>584.0</td>\n",
       "      <td>2.5313</td>\n",
       "      <td>45800.0</td>\n",
       "      <td>INLAND</td>\n",
       "    </tr>\n",
       "    <tr>\n",
       "      <th>15663</th>\n",
       "      <td>-122.44</td>\n",
       "      <td>37.80</td>\n",
       "      <td>52.0</td>\n",
       "      <td>3830.0</td>\n",
       "      <td>NaN</td>\n",
       "      <td>1310.0</td>\n",
       "      <td>963.0</td>\n",
       "      <td>3.4801</td>\n",
       "      <td>500001.0</td>\n",
       "      <td>NEAR BAY</td>\n",
       "    </tr>\n",
       "    <tr>\n",
       "      <th>20484</th>\n",
       "      <td>-118.72</td>\n",
       "      <td>34.28</td>\n",
       "      <td>17.0</td>\n",
       "      <td>3051.0</td>\n",
       "      <td>NaN</td>\n",
       "      <td>1705.0</td>\n",
       "      <td>495.0</td>\n",
       "      <td>5.7376</td>\n",
       "      <td>218600.0</td>\n",
       "      <td>&lt;1H OCEAN</td>\n",
       "    </tr>\n",
       "    <tr>\n",
       "      <th>9814</th>\n",
       "      <td>-121.93</td>\n",
       "      <td>36.62</td>\n",
       "      <td>34.0</td>\n",
       "      <td>2351.0</td>\n",
       "      <td>NaN</td>\n",
       "      <td>1063.0</td>\n",
       "      <td>428.0</td>\n",
       "      <td>3.7250</td>\n",
       "      <td>278000.0</td>\n",
       "      <td>NEAR OCEAN</td>\n",
       "    </tr>\n",
       "  </tbody>\n",
       "</table>\n",
       "</div>"
      ],
      "text/plain": [
       "       longitude  latitude  housing_median_age  total_rooms  total_bedrooms  \\\n",
       "20046    -119.01     36.06                25.0       1505.0             NaN   \n",
       "3024     -119.46     35.14                30.0       2943.0             NaN   \n",
       "15663    -122.44     37.80                52.0       3830.0             NaN   \n",
       "20484    -118.72     34.28                17.0       3051.0             NaN   \n",
       "9814     -121.93     36.62                34.0       2351.0             NaN   \n",
       "\n",
       "       population  households  median_income  median_house_value  \\\n",
       "20046      1392.0       359.0         1.6812             47700.0   \n",
       "3024       1565.0       584.0         2.5313             45800.0   \n",
       "15663      1310.0       963.0         3.4801            500001.0   \n",
       "20484      1705.0       495.0         5.7376            218600.0   \n",
       "9814       1063.0       428.0         3.7250            278000.0   \n",
       "\n",
       "      ocean_proximity  \n",
       "20046          INLAND  \n",
       "3024           INLAND  \n",
       "15663        NEAR BAY  \n",
       "20484       <1H OCEAN  \n",
       "9814       NEAR OCEAN  "
      ]
     },
     "execution_count": 382,
     "metadata": {},
     "output_type": "execute_result"
    }
   ],
   "source": [
    "#테스트 세트가 잘들어 나눠 졌는지 head로 확인\n",
    "test_set.head()"
   ]
  },
  {
   "cell_type": "code",
   "execution_count": 383,
   "metadata": {},
   "outputs": [
    {
     "data": {
      "text/plain": [
       "16512"
      ]
     },
     "execution_count": 383,
     "metadata": {},
     "output_type": "execute_result"
    }
   ],
   "source": [
    "#트레인 세트의 갯수 확인\n",
    "len(train_set)"
   ]
  },
  {
   "cell_type": "code",
   "execution_count": 384,
   "metadata": {},
   "outputs": [
    {
     "data": {
      "text/plain": [
       "4128"
      ]
     },
     "execution_count": 384,
     "metadata": {},
     "output_type": "execute_result"
    }
   ],
   "source": [
    "#테스트 세트의 갯수 확인\n",
    "len(test_set)"
   ]
  },
  {
   "cell_type": "code",
   "execution_count": 385,
   "metadata": {},
   "outputs": [],
   "source": [
    "#income별로 고르게 나누기 위해 median_income을 이용하여 \n",
    "#income_cat이라는 더미 변수 생성\n",
    "#소득분위별로 1~5까지 나누기 \n",
    "p182591[\"income_cat\"]= pd.cut(p182591[\"median_income\"],\n",
    "                               bins=[0., 1.5, 3.0, 4.5, 6., np.inf],\n",
    "                               labels=[1, 2, 3, 4, 5])"
   ]
  },
  {
   "cell_type": "code",
   "execution_count": 386,
   "metadata": {},
   "outputs": [
    {
     "data": {
      "text/plain": [
       "3    7236\n",
       "2    6581\n",
       "4    3639\n",
       "5    2362\n",
       "1     822\n",
       "Name: income_cat, dtype: int64"
      ]
     },
     "execution_count": 386,
     "metadata": {},
     "output_type": "execute_result"
    }
   ],
   "source": [
    "# 소득분위 별로 얼마나 나누어 졌는지 확인\n",
    "p182591[\"income_cat\"].value_counts()"
   ]
  },
  {
   "cell_type": "code",
   "execution_count": 387,
   "metadata": {
    "scrolled": true
   },
   "outputs": [],
   "source": [
    "# 사이킷런의 StratifiedShuffleSplit를 이용하여 income_cat별로 고르게 분배하여\n",
    "#strat_train_set과 strat_test_set로 분리\n",
    "\n",
    "from sklearn.model_selection import StratifiedShuffleSplit\n",
    "\n",
    "split = StratifiedShuffleSplit(n_splits=1, test_size=0.2, random_state=42)\n",
    "for train_index, test_index in split.split(p182591, p182591[\"income_cat\"]):\n",
    "    strat_train_set = p182591.loc[train_index]\n",
    "    strat_test_set = p182591.loc[test_index]"
   ]
  },
  {
   "cell_type": "code",
   "execution_count": 388,
   "metadata": {
    "scrolled": true
   },
   "outputs": [
    {
     "data": {
      "text/html": [
       "<div>\n",
       "<style scoped>\n",
       "    .dataframe tbody tr th:only-of-type {\n",
       "        vertical-align: middle;\n",
       "    }\n",
       "\n",
       "    .dataframe tbody tr th {\n",
       "        vertical-align: top;\n",
       "    }\n",
       "\n",
       "    .dataframe thead th {\n",
       "        text-align: right;\n",
       "    }\n",
       "</style>\n",
       "<table border=\"1\" class=\"dataframe\">\n",
       "  <thead>\n",
       "    <tr style=\"text-align: right;\">\n",
       "      <th></th>\n",
       "      <th>longitude</th>\n",
       "      <th>latitude</th>\n",
       "      <th>housing_median_age</th>\n",
       "      <th>total_rooms</th>\n",
       "      <th>total_bedrooms</th>\n",
       "      <th>population</th>\n",
       "      <th>households</th>\n",
       "      <th>median_income</th>\n",
       "      <th>median_house_value</th>\n",
       "      <th>ocean_proximity</th>\n",
       "      <th>income_cat</th>\n",
       "    </tr>\n",
       "  </thead>\n",
       "  <tbody>\n",
       "    <tr>\n",
       "      <th>17606</th>\n",
       "      <td>-121.89</td>\n",
       "      <td>37.29</td>\n",
       "      <td>38.0</td>\n",
       "      <td>1568.0</td>\n",
       "      <td>351.0</td>\n",
       "      <td>710.0</td>\n",
       "      <td>339.0</td>\n",
       "      <td>2.7042</td>\n",
       "      <td>286600.0</td>\n",
       "      <td>&lt;1H OCEAN</td>\n",
       "      <td>2</td>\n",
       "    </tr>\n",
       "    <tr>\n",
       "      <th>18632</th>\n",
       "      <td>-121.93</td>\n",
       "      <td>37.05</td>\n",
       "      <td>14.0</td>\n",
       "      <td>679.0</td>\n",
       "      <td>108.0</td>\n",
       "      <td>306.0</td>\n",
       "      <td>113.0</td>\n",
       "      <td>6.4214</td>\n",
       "      <td>340600.0</td>\n",
       "      <td>&lt;1H OCEAN</td>\n",
       "      <td>5</td>\n",
       "    </tr>\n",
       "    <tr>\n",
       "      <th>14650</th>\n",
       "      <td>-117.20</td>\n",
       "      <td>32.77</td>\n",
       "      <td>31.0</td>\n",
       "      <td>1952.0</td>\n",
       "      <td>471.0</td>\n",
       "      <td>936.0</td>\n",
       "      <td>462.0</td>\n",
       "      <td>2.8621</td>\n",
       "      <td>196900.0</td>\n",
       "      <td>NEAR OCEAN</td>\n",
       "      <td>2</td>\n",
       "    </tr>\n",
       "    <tr>\n",
       "      <th>3230</th>\n",
       "      <td>-119.61</td>\n",
       "      <td>36.31</td>\n",
       "      <td>25.0</td>\n",
       "      <td>1847.0</td>\n",
       "      <td>371.0</td>\n",
       "      <td>1460.0</td>\n",
       "      <td>353.0</td>\n",
       "      <td>1.8839</td>\n",
       "      <td>46300.0</td>\n",
       "      <td>INLAND</td>\n",
       "      <td>2</td>\n",
       "    </tr>\n",
       "    <tr>\n",
       "      <th>3555</th>\n",
       "      <td>-118.59</td>\n",
       "      <td>34.23</td>\n",
       "      <td>17.0</td>\n",
       "      <td>6592.0</td>\n",
       "      <td>1525.0</td>\n",
       "      <td>4459.0</td>\n",
       "      <td>1463.0</td>\n",
       "      <td>3.0347</td>\n",
       "      <td>254500.0</td>\n",
       "      <td>&lt;1H OCEAN</td>\n",
       "      <td>3</td>\n",
       "    </tr>\n",
       "  </tbody>\n",
       "</table>\n",
       "</div>"
      ],
      "text/plain": [
       "       longitude  latitude  housing_median_age  total_rooms  total_bedrooms  \\\n",
       "17606    -121.89     37.29                38.0       1568.0           351.0   \n",
       "18632    -121.93     37.05                14.0        679.0           108.0   \n",
       "14650    -117.20     32.77                31.0       1952.0           471.0   \n",
       "3230     -119.61     36.31                25.0       1847.0           371.0   \n",
       "3555     -118.59     34.23                17.0       6592.0          1525.0   \n",
       "\n",
       "       population  households  median_income  median_house_value  \\\n",
       "17606       710.0       339.0         2.7042            286600.0   \n",
       "18632       306.0       113.0         6.4214            340600.0   \n",
       "14650       936.0       462.0         2.8621            196900.0   \n",
       "3230       1460.0       353.0         1.8839             46300.0   \n",
       "3555       4459.0      1463.0         3.0347            254500.0   \n",
       "\n",
       "      ocean_proximity income_cat  \n",
       "17606       <1H OCEAN          2  \n",
       "18632       <1H OCEAN          5  \n",
       "14650      NEAR OCEAN          2  \n",
       "3230           INLAND          2  \n",
       "3555        <1H OCEAN          3  "
      ]
     },
     "execution_count": 388,
     "metadata": {},
     "output_type": "execute_result"
    }
   ],
   "source": [
    "#strat_train_set 데이터 확인 \n",
    "strat_train_set.head()"
   ]
  },
  {
   "cell_type": "code",
   "execution_count": 389,
   "metadata": {},
   "outputs": [],
   "source": [
    "#생성했던 income_cat은 분석에 사용하지 않기 때문에 drop으로 없애기\n",
    "for set_ in (strat_train_set, strat_test_set):\n",
    "    set_.drop(\"income_cat\", axis=1, inplace=True)"
   ]
  },
  {
   "cell_type": "code",
   "execution_count": 390,
   "metadata": {},
   "outputs": [
    {
     "data": {
      "text/html": [
       "<div>\n",
       "<style scoped>\n",
       "    .dataframe tbody tr th:only-of-type {\n",
       "        vertical-align: middle;\n",
       "    }\n",
       "\n",
       "    .dataframe tbody tr th {\n",
       "        vertical-align: top;\n",
       "    }\n",
       "\n",
       "    .dataframe thead th {\n",
       "        text-align: right;\n",
       "    }\n",
       "</style>\n",
       "<table border=\"1\" class=\"dataframe\">\n",
       "  <thead>\n",
       "    <tr style=\"text-align: right;\">\n",
       "      <th></th>\n",
       "      <th>longitude</th>\n",
       "      <th>latitude</th>\n",
       "      <th>housing_median_age</th>\n",
       "      <th>total_rooms</th>\n",
       "      <th>total_bedrooms</th>\n",
       "      <th>population</th>\n",
       "      <th>households</th>\n",
       "      <th>median_income</th>\n",
       "      <th>median_house_value</th>\n",
       "      <th>ocean_proximity</th>\n",
       "    </tr>\n",
       "  </thead>\n",
       "  <tbody>\n",
       "    <tr>\n",
       "      <th>17606</th>\n",
       "      <td>-121.89</td>\n",
       "      <td>37.29</td>\n",
       "      <td>38.0</td>\n",
       "      <td>1568.0</td>\n",
       "      <td>351.0</td>\n",
       "      <td>710.0</td>\n",
       "      <td>339.0</td>\n",
       "      <td>2.7042</td>\n",
       "      <td>286600.0</td>\n",
       "      <td>&lt;1H OCEAN</td>\n",
       "    </tr>\n",
       "    <tr>\n",
       "      <th>18632</th>\n",
       "      <td>-121.93</td>\n",
       "      <td>37.05</td>\n",
       "      <td>14.0</td>\n",
       "      <td>679.0</td>\n",
       "      <td>108.0</td>\n",
       "      <td>306.0</td>\n",
       "      <td>113.0</td>\n",
       "      <td>6.4214</td>\n",
       "      <td>340600.0</td>\n",
       "      <td>&lt;1H OCEAN</td>\n",
       "    </tr>\n",
       "    <tr>\n",
       "      <th>14650</th>\n",
       "      <td>-117.20</td>\n",
       "      <td>32.77</td>\n",
       "      <td>31.0</td>\n",
       "      <td>1952.0</td>\n",
       "      <td>471.0</td>\n",
       "      <td>936.0</td>\n",
       "      <td>462.0</td>\n",
       "      <td>2.8621</td>\n",
       "      <td>196900.0</td>\n",
       "      <td>NEAR OCEAN</td>\n",
       "    </tr>\n",
       "    <tr>\n",
       "      <th>3230</th>\n",
       "      <td>-119.61</td>\n",
       "      <td>36.31</td>\n",
       "      <td>25.0</td>\n",
       "      <td>1847.0</td>\n",
       "      <td>371.0</td>\n",
       "      <td>1460.0</td>\n",
       "      <td>353.0</td>\n",
       "      <td>1.8839</td>\n",
       "      <td>46300.0</td>\n",
       "      <td>INLAND</td>\n",
       "    </tr>\n",
       "    <tr>\n",
       "      <th>3555</th>\n",
       "      <td>-118.59</td>\n",
       "      <td>34.23</td>\n",
       "      <td>17.0</td>\n",
       "      <td>6592.0</td>\n",
       "      <td>1525.0</td>\n",
       "      <td>4459.0</td>\n",
       "      <td>1463.0</td>\n",
       "      <td>3.0347</td>\n",
       "      <td>254500.0</td>\n",
       "      <td>&lt;1H OCEAN</td>\n",
       "    </tr>\n",
       "  </tbody>\n",
       "</table>\n",
       "</div>"
      ],
      "text/plain": [
       "       longitude  latitude  housing_median_age  total_rooms  total_bedrooms  \\\n",
       "17606    -121.89     37.29                38.0       1568.0           351.0   \n",
       "18632    -121.93     37.05                14.0        679.0           108.0   \n",
       "14650    -117.20     32.77                31.0       1952.0           471.0   \n",
       "3230     -119.61     36.31                25.0       1847.0           371.0   \n",
       "3555     -118.59     34.23                17.0       6592.0          1525.0   \n",
       "\n",
       "       population  households  median_income  median_house_value  \\\n",
       "17606       710.0       339.0         2.7042            286600.0   \n",
       "18632       306.0       113.0         6.4214            340600.0   \n",
       "14650       936.0       462.0         2.8621            196900.0   \n",
       "3230       1460.0       353.0         1.8839             46300.0   \n",
       "3555       4459.0      1463.0         3.0347            254500.0   \n",
       "\n",
       "      ocean_proximity  \n",
       "17606       <1H OCEAN  \n",
       "18632       <1H OCEAN  \n",
       "14650      NEAR OCEAN  \n",
       "3230           INLAND  \n",
       "3555        <1H OCEAN  "
      ]
     },
     "execution_count": 390,
     "metadata": {},
     "output_type": "execute_result"
    }
   ],
   "source": [
    "#income_cat 특성이 없어졌는지 확인\n",
    "strat_train_set.head()"
   ]
  },
  {
   "cell_type": "code",
   "execution_count": 391,
   "metadata": {
    "execution": {
     "iopub.execute_input": "2021-11-03T03:33:19.025342Z",
     "iopub.status.busy": "2021-11-03T03:33:19.024069Z",
     "iopub.status.idle": "2021-11-03T03:33:19.025995Z",
     "shell.execute_reply": "2021-11-03T03:33:19.026418Z"
    },
    "executionInfo": {
     "elapsed": 19,
     "status": "ok",
     "timestamp": 1647496670498,
     "user": {
      "displayName": "Hyung-jeong Yang",
      "photoUrl": "https://lh3.googleusercontent.com/a/default-user=s64",
      "userId": "02381304708881262053"
     },
     "user_tz": -540
    },
    "id": "EAD18nFtBTFB"
   },
   "outputs": [],
   "source": [
    "# 훈련세트 보호를 위해 복사\n",
    "\n",
    "p182591 = strat_train_set.copy()"
   ]
  },
  {
   "cell_type": "markdown",
   "metadata": {},
   "source": [
    "## 상관관계 출력하기"
   ]
  },
  {
   "cell_type": "code",
   "execution_count": 392,
   "metadata": {
    "execution": {
     "iopub.execute_input": "2021-11-03T03:33:25.727426Z",
     "iopub.status.busy": "2021-11-03T03:33:25.726070Z",
     "iopub.status.idle": "2021-11-03T03:33:25.749740Z",
     "shell.execute_reply": "2021-11-03T03:33:25.750515Z"
    },
    "executionInfo": {
     "elapsed": 47,
     "status": "ok",
     "timestamp": 1647496679387,
     "user": {
      "displayName": "Hyung-jeong Yang",
      "photoUrl": "https://lh3.googleusercontent.com/a/default-user=s64",
      "userId": "02381304708881262053"
     },
     "user_tz": -540
    },
    "id": "6Duqr0oXBTFD"
   },
   "outputs": [],
   "source": [
    "#corr를 사용해서 상관계수(피어슨 상관계수)구하기\n",
    "corr_matrix = p182591.corr()"
   ]
  },
  {
   "cell_type": "code",
   "execution_count": 393,
   "metadata": {
    "colab": {
     "base_uri": "https://localhost:8080/"
    },
    "execution": {
     "iopub.execute_input": "2021-11-03T03:33:25.757201Z",
     "iopub.status.busy": "2021-11-03T03:33:25.756484Z",
     "iopub.status.idle": "2021-11-03T03:33:25.759283Z",
     "shell.execute_reply": "2021-11-03T03:33:25.759723Z"
    },
    "executionInfo": {
     "elapsed": 50,
     "status": "ok",
     "timestamp": 1647496679393,
     "user": {
      "displayName": "Hyung-jeong Yang",
      "photoUrl": "https://lh3.googleusercontent.com/a/default-user=s64",
      "userId": "02381304708881262053"
     },
     "user_tz": -540
    },
    "id": "VZ7S9slqBTFD",
    "outputId": "30c99ea2-5677-436a-943d-b46924b10518",
    "scrolled": true
   },
   "outputs": [
    {
     "data": {
      "text/plain": [
       "median_house_value    1.000000\n",
       "median_income         0.687160\n",
       "total_rooms           0.135097\n",
       "housing_median_age    0.114110\n",
       "households            0.064506\n",
       "total_bedrooms        0.047689\n",
       "population           -0.026920\n",
       "longitude            -0.047432\n",
       "latitude             -0.142724\n",
       "Name: median_house_value, dtype: float64"
      ]
     },
     "execution_count": 393,
     "metadata": {},
     "output_type": "execute_result"
    }
   ],
   "source": [
    "#레이블인 \"median_house_value\"를 중심으로 상관관계 확인하기 \n",
    "#median_income이 상관계수 0.687로 높은 상관관계를 보임을 확인\n",
    "# 이후 total_room  0.135097  , housing_median_age 0.114110 로 약한 상관관계를 보인다. \n",
    "#latitude은 -0.142724 약한 음의 상관관계를 보임을 확인\n",
    "#나머지 특성은 큰 상관관계를 보이지 않음\n",
    "\n",
    "corr_matrix[\"median_house_value\"].sort_values(ascending=False)"
   ]
  },
  {
   "cell_type": "code",
   "execution_count": 394,
   "metadata": {
    "colab": {
     "base_uri": "https://localhost:8080/",
     "height": 469
    },
    "execution": {
     "iopub.execute_input": "2021-11-03T03:33:25.856882Z",
     "iopub.status.busy": "2021-11-03T03:33:25.822855Z",
     "iopub.status.idle": "2021-11-03T03:33:30.654572Z",
     "shell.execute_reply": "2021-11-03T03:33:30.655032Z"
    },
    "executionInfo": {
     "elapsed": 6279,
     "status": "ok",
     "timestamp": 1647496685633,
     "user": {
      "displayName": "Hyung-jeong Yang",
      "photoUrl": "https://lh3.googleusercontent.com/a/default-user=s64",
      "userId": "02381304708881262053"
     },
     "user_tz": -540
    },
    "id": "If6c3B-PBTFD",
    "outputId": "3fbe8104-233f-45fc-b296-a80d8f4fbad7"
   },
   "outputs": [
    {
     "data": {
      "text/plain": [
       "array([[<matplotlib.axes._subplots.AxesSubplot object at 0x000002F9D42D9EF0>,\n",
       "        <matplotlib.axes._subplots.AxesSubplot object at 0x000002F9D41F4CC0>,\n",
       "        <matplotlib.axes._subplots.AxesSubplot object at 0x000002F9D5104C50>,\n",
       "        <matplotlib.axes._subplots.AxesSubplot object at 0x000002F9D512F208>],\n",
       "       [<matplotlib.axes._subplots.AxesSubplot object at 0x000002F9D49DF7B8>,\n",
       "        <matplotlib.axes._subplots.AxesSubplot object at 0x000002F9D4A10D68>,\n",
       "        <matplotlib.axes._subplots.AxesSubplot object at 0x000002F9D459F208>,\n",
       "        <matplotlib.axes._subplots.AxesSubplot object at 0x000002F9D45C49B0>],\n",
       "       [<matplotlib.axes._subplots.AxesSubplot object at 0x000002F9D45C4080>,\n",
       "        <matplotlib.axes._subplots.AxesSubplot object at 0x000002F9D45B7550>,\n",
       "        <matplotlib.axes._subplots.AxesSubplot object at 0x000002F9D4CF7710>,\n",
       "        <matplotlib.axes._subplots.AxesSubplot object at 0x000002F9D4C31BA8>],\n",
       "       [<matplotlib.axes._subplots.AxesSubplot object at 0x000002F9D4150C88>,\n",
       "        <matplotlib.axes._subplots.AxesSubplot object at 0x000002F9D45EF908>,\n",
       "        <matplotlib.axes._subplots.AxesSubplot object at 0x000002F9D4C291D0>,\n",
       "        <matplotlib.axes._subplots.AxesSubplot object at 0x000002F9D40A0D68>]],\n",
       "      dtype=object)"
      ]
     },
     "execution_count": 394,
     "metadata": {},
     "output_type": "execute_result"
    },
    {
     "data": {
      "image/png": "[encoded data removed]",
      "text/plain": [
       "<Figure size 864x576 with 16 Axes>"
      ]
     },
     "metadata": {
      "needs_background": "light"
     },
     "output_type": "display_data"
    }
   ],
   "source": [
    "# pscatter_matrix을 이용하여 두 값사이의 관계를 산점도로 파악\n",
    "# median_house_value와 상관관계가 높았던 3개의 특성 살펴보기\n",
    "\n",
    "from pandas.plotting import scatter_matrix\n",
    "\n",
    "attributes = [\"median_house_value\", \"median_income\", \"total_rooms\",\n",
    "              \"housing_median_age\"]\n",
    "scatter_matrix(p182591[attributes], figsize=(12, 8))"
   ]
  },
  {
   "cell_type": "code",
   "execution_count": 395,
   "metadata": {
    "colab": {
     "base_uri": "https://localhost:8080/",
     "height": 315
    },
    "execution": {
     "iopub.execute_input": "2021-11-03T03:33:30.660366Z",
     "iopub.status.busy": "2021-11-03T03:33:30.659743Z",
     "iopub.status.idle": "2021-11-03T03:33:31.367943Z",
     "shell.execute_reply": "2021-11-03T03:33:31.368396Z"
    },
    "executionInfo": {
     "elapsed": 1055,
     "status": "ok",
     "timestamp": 1647496686670,
     "user": {
      "displayName": "Hyung-jeong Yang",
      "photoUrl": "https://lh3.googleusercontent.com/a/default-user=s64",
      "userId": "02381304708881262053"
     },
     "user_tz": -540
    },
    "id": "Lcwiw-84BTFD",
    "outputId": "ff2c895c-1f25-48f0-ffd3-3497f7cdc11b"
   },
   "outputs": [
    {
     "data": {
      "text/plain": [
       "[0, 16, 0, 550000]"
      ]
     },
     "execution_count": 395,
     "metadata": {},
     "output_type": "execute_result"
    },
    {
     "data": {
      "image/png": "[encoded data removed]",
      "text/plain": [
       "<Figure size 432x288 with 1 Axes>"
      ]
     },
     "metadata": {
      "needs_background": "light"
     },
     "output_type": "display_data"
    }
   ],
   "source": [
    "# 상관관계가 가장높은 median_income과 median_house_value 의 산점도 보기\n",
    "# 상관계수 0.687로 상관관계가 비교적 강하다\n",
    "# $500,000 $350000 선에서 수평선이 있음 확인\n",
    "p182591.plot(kind=\"scatter\", x=\"median_income\", y=\"median_house_value\",\n",
    "             alpha=0.1)\n",
    "plt.axis([0, 16, 0, 550000])"
   ]
  },
  {
   "cell_type": "markdown",
   "metadata": {
    "id": "qsv8bywoBTFD"
   },
   "source": [
    "## 새로운 feature 추가하기( 교재의 3개)"
   ]
  },
  {
   "cell_type": "code",
   "execution_count": 396,
   "metadata": {
    "execution": {
     "iopub.execute_input": "2021-11-03T03:33:31.376116Z",
     "iopub.status.busy": "2021-11-03T03:33:31.375258Z",
     "iopub.status.idle": "2021-11-03T03:33:31.378026Z",
     "shell.execute_reply": "2021-11-03T03:33:31.377343Z"
    },
    "executionInfo": {
     "elapsed": 27,
     "status": "ok",
     "timestamp": 1647496686673,
     "user": {
      "displayName": "Hyung-jeong Yang",
      "photoUrl": "https://lh3.googleusercontent.com/a/default-user=s64",
      "userId": "02381304708881262053"
     },
     "user_tz": -540
    },
    "id": "PL1br7aaBTFD"
   },
   "outputs": [],
   "source": [
    "# 가구수 대비 방의 갯수 : rooms_per_household\n",
    "# 전체방의 수 대비 침실수 :bedrooms_per_room\n",
    "# 가구수 대비 인구수 : population_per_household\n",
    "\n",
    "p182591[\"rooms_per_household\"] = p182591[\"total_rooms\"]/p182591[\"households\"]\n",
    "p182591[\"bedrooms_per_room\"] = p182591[\"total_bedrooms\"]/p182591[\"total_rooms\"]\n",
    "p182591[\"population_per_household\"]=p182591[\"population\"]/p182591[\"households\"]"
   ]
  },
  {
   "cell_type": "code",
   "execution_count": 397,
   "metadata": {
    "colab": {
     "base_uri": "https://localhost:8080/"
    },
    "execution": {
     "iopub.execute_input": "2021-11-03T03:33:31.382493Z",
     "iopub.status.busy": "2021-11-03T03:33:31.381875Z",
     "iopub.status.idle": "2021-11-03T03:33:31.395067Z",
     "shell.execute_reply": "2021-11-03T03:33:31.395505Z"
    },
    "executionInfo": {
     "elapsed": 28,
     "status": "ok",
     "timestamp": 1647496686674,
     "user": {
      "displayName": "Hyung-jeong Yang",
      "photoUrl": "https://lh3.googleusercontent.com/a/default-user=s64",
      "userId": "02381304708881262053"
     },
     "user_tz": -540
    },
    "id": "M0AH3szsBTFE",
    "outputId": "c1eaa6a5-7e81-4435-a50c-6ff6517062c5",
    "scrolled": true
   },
   "outputs": [
    {
     "data": {
      "text/plain": [
       "median_house_value          1.000000\n",
       "median_income               0.687160\n",
       "rooms_per_household         0.146285\n",
       "total_rooms                 0.135097\n",
       "housing_median_age          0.114110\n",
       "households                  0.064506\n",
       "total_bedrooms              0.047689\n",
       "population_per_household   -0.021985\n",
       "population                 -0.026920\n",
       "longitude                  -0.047432\n",
       "latitude                   -0.142724\n",
       "bedrooms_per_room          -0.259984\n",
       "Name: median_house_value, dtype: float64"
      ]
     },
     "execution_count": 397,
     "metadata": {},
     "output_type": "execute_result"
    }
   ],
   "source": [
    "# 새로운 특성으로 상관관계 분석\n",
    "# 새로만든 bedrooms_per_room 특성이 상관계수 -0.259984 으로 조합전 total_rooms,total_bedrooms 보다 상관관계가 높음\n",
    "# bedrooms_per_room은 음의 상관관계를 보여 bedrooms_per_room이 낮을 수록,median_house_value이 높음을 확인\n",
    "# rooms_per_household가 상관계수 0.146255로 조합전 total_rooms보다 상관계수가 높음을 확인\n",
    "\n",
    "corr_matrix = p182591.corr()\n",
    "corr_matrix[\"median_house_value\"].sort_values(ascending=False)"
   ]
  },
  {
   "cell_type": "markdown",
   "metadata": {},
   "source": [
    "## 새로만든 특성의 상관관계"
   ]
  },
  {
   "cell_type": "code",
   "execution_count": 398,
   "metadata": {},
   "outputs": [
    {
     "data": {
      "text/plain": [
       "array([[<matplotlib.axes._subplots.AxesSubplot object at 0x000002F9D39953C8>,\n",
       "        <matplotlib.axes._subplots.AxesSubplot object at 0x000002F9D42DF7F0>,\n",
       "        <matplotlib.axes._subplots.AxesSubplot object at 0x000002F9D4425D68>,\n",
       "        <matplotlib.axes._subplots.AxesSubplot object at 0x000002F9D4157358>],\n",
       "       [<matplotlib.axes._subplots.AxesSubplot object at 0x000002F9D41D0908>,\n",
       "        <matplotlib.axes._subplots.AxesSubplot object at 0x000002F9D4267EB8>,\n",
       "        <matplotlib.axes._subplots.AxesSubplot object at 0x000002F9D42C54A8>,\n",
       "        <matplotlib.axes._subplots.AxesSubplot object at 0x000002F9D439AA90>],\n",
       "       [<matplotlib.axes._subplots.AxesSubplot object at 0x000002F9D439AAC8>,\n",
       "        <matplotlib.axes._subplots.AxesSubplot object at 0x000002F9D1F505F8>,\n",
       "        <matplotlib.axes._subplots.AxesSubplot object at 0x000002F9D412EBA8>,\n",
       "        <matplotlib.axes._subplots.AxesSubplot object at 0x000002F9D4215198>],\n",
       "       [<matplotlib.axes._subplots.AxesSubplot object at 0x000002F9D419D748>,\n",
       "        <matplotlib.axes._subplots.AxesSubplot object at 0x000002F9D4067CF8>,\n",
       "        <matplotlib.axes._subplots.AxesSubplot object at 0x000002F9D455A2E8>,\n",
       "        <matplotlib.axes._subplots.AxesSubplot object at 0x000002F9D4537898>]],\n",
       "      dtype=object)"
      ]
     },
     "execution_count": 398,
     "metadata": {},
     "output_type": "execute_result"
    },
    {
     "data": {
      "image/png": "[encoded data removed]",
      "text/plain": [
       "<Figure size 864x576 with 16 Axes>"
      ]
     },
     "metadata": {
      "needs_background": "light"
     },
     "output_type": "display_data"
    }
   ],
   "source": [
    "# pscatter_matrix을 이용하여 두 값사이의 관계를 산점도로 파악\n",
    "# median_house_value와 새로 만들었던 3개의 산점도 살펴보기\n",
    "attributes = [\"median_house_value\", \"rooms_per_household\", \"bedrooms_per_room\",\n",
    "              \"population_per_household\"]\n",
    "scatter_matrix(p182591[attributes], figsize=(12, 8))"
   ]
  },
  {
   "cell_type": "code",
   "execution_count": 399,
   "metadata": {
    "colab": {
     "base_uri": "https://localhost:8080/",
     "height": 286
    },
    "execution": {
     "iopub.execute_input": "2021-11-03T03:33:31.399652Z",
     "iopub.status.busy": "2021-11-03T03:33:31.398973Z",
     "iopub.status.idle": "2021-11-03T03:33:31.550008Z",
     "shell.execute_reply": "2021-11-03T03:33:31.550440Z"
    },
    "executionInfo": {
     "elapsed": 19,
     "status": "ok",
     "timestamp": 1647496686676,
     "user": {
      "displayName": "Hyung-jeong Yang",
      "photoUrl": "https://lh3.googleusercontent.com/a/default-user=s64",
      "userId": "02381304708881262053"
     },
     "user_tz": -540
    },
    "id": "5uzshivdBTFE",
    "outputId": "210a3d0e-fa3c-4c81-de2c-4d89bd046f52"
   },
   "outputs": [
    {
     "data": {
      "image/png": "[encoded data removed]",
      "text/plain": [
       "<Figure size 432x288 with 1 Axes>"
      ]
     },
     "metadata": {
      "needs_background": "light"
     },
     "output_type": "display_data"
    }
   ],
   "source": [
    "# median_income과 bedrooms_per_room의 산점도 보기\n",
    "# 상관계수 -0.259984로 약한 음의 상관관계를 보임을 확인\n",
    "# \n",
    "\n",
    "p182591.plot(kind=\"scatter\", x=\"bedrooms_per_room\", y=\"median_house_value\",\n",
    "             alpha=0.2)\n",
    "plt.axis([0, 1, 0, 550000])\n",
    "plt.show()"
   ]
  },
  {
   "cell_type": "code",
   "execution_count": 400,
   "metadata": {
    "colab": {
     "base_uri": "https://localhost:8080/",
     "height": 364
    },
    "execution": {
     "iopub.execute_input": "2021-11-03T03:33:31.555341Z",
     "iopub.status.busy": "2021-11-03T03:33:31.554761Z",
     "iopub.status.idle": "2021-11-03T03:33:31.599075Z",
     "shell.execute_reply": "2021-11-03T03:33:31.599521Z"
    },
    "executionInfo": {
     "elapsed": 543,
     "status": "ok",
     "timestamp": 1647496687202,
     "user": {
      "displayName": "Hyung-jeong Yang",
      "photoUrl": "https://lh3.googleusercontent.com/a/default-user=s64",
      "userId": "02381304708881262053"
     },
     "user_tz": -540
    },
    "id": "2-6Fwyx5BTFE",
    "outputId": "800f647d-0835-4e60-e6ac-5473baf4352d",
    "scrolled": false
   },
   "outputs": [
    {
     "data": {
      "text/html": [
       "<div>\n",
       "<style scoped>\n",
       "    .dataframe tbody tr th:only-of-type {\n",
       "        vertical-align: middle;\n",
       "    }\n",
       "\n",
       "    .dataframe tbody tr th {\n",
       "        vertical-align: top;\n",
       "    }\n",
       "\n",
       "    .dataframe thead th {\n",
       "        text-align: right;\n",
       "    }\n",
       "</style>\n",
       "<table border=\"1\" class=\"dataframe\">\n",
       "  <thead>\n",
       "    <tr style=\"text-align: right;\">\n",
       "      <th></th>\n",
       "      <th>longitude</th>\n",
       "      <th>latitude</th>\n",
       "      <th>housing_median_age</th>\n",
       "      <th>total_rooms</th>\n",
       "      <th>total_bedrooms</th>\n",
       "      <th>population</th>\n",
       "      <th>households</th>\n",
       "      <th>median_income</th>\n",
       "      <th>median_house_value</th>\n",
       "      <th>rooms_per_household</th>\n",
       "      <th>bedrooms_per_room</th>\n",
       "      <th>population_per_household</th>\n",
       "    </tr>\n",
       "  </thead>\n",
       "  <tbody>\n",
       "    <tr>\n",
       "      <th>count</th>\n",
       "      <td>16512.000000</td>\n",
       "      <td>16512.000000</td>\n",
       "      <td>16512.000000</td>\n",
       "      <td>16512.000000</td>\n",
       "      <td>16354.000000</td>\n",
       "      <td>16512.000000</td>\n",
       "      <td>16512.000000</td>\n",
       "      <td>16512.000000</td>\n",
       "      <td>16512.000000</td>\n",
       "      <td>16512.000000</td>\n",
       "      <td>16354.000000</td>\n",
       "      <td>16512.000000</td>\n",
       "    </tr>\n",
       "    <tr>\n",
       "      <th>mean</th>\n",
       "      <td>-119.575834</td>\n",
       "      <td>35.639577</td>\n",
       "      <td>28.653101</td>\n",
       "      <td>2622.728319</td>\n",
       "      <td>534.973890</td>\n",
       "      <td>1419.790819</td>\n",
       "      <td>497.060380</td>\n",
       "      <td>3.875589</td>\n",
       "      <td>206990.920724</td>\n",
       "      <td>5.440341</td>\n",
       "      <td>0.212878</td>\n",
       "      <td>3.096437</td>\n",
       "    </tr>\n",
       "    <tr>\n",
       "      <th>std</th>\n",
       "      <td>2.001860</td>\n",
       "      <td>2.138058</td>\n",
       "      <td>12.574726</td>\n",
       "      <td>2138.458419</td>\n",
       "      <td>412.699041</td>\n",
       "      <td>1115.686241</td>\n",
       "      <td>375.720845</td>\n",
       "      <td>1.904950</td>\n",
       "      <td>115703.014830</td>\n",
       "      <td>2.611712</td>\n",
       "      <td>0.057379</td>\n",
       "      <td>11.584826</td>\n",
       "    </tr>\n",
       "    <tr>\n",
       "      <th>min</th>\n",
       "      <td>-124.350000</td>\n",
       "      <td>32.540000</td>\n",
       "      <td>1.000000</td>\n",
       "      <td>6.000000</td>\n",
       "      <td>2.000000</td>\n",
       "      <td>3.000000</td>\n",
       "      <td>2.000000</td>\n",
       "      <td>0.499900</td>\n",
       "      <td>14999.000000</td>\n",
       "      <td>1.130435</td>\n",
       "      <td>0.100000</td>\n",
       "      <td>0.692308</td>\n",
       "    </tr>\n",
       "    <tr>\n",
       "      <th>25%</th>\n",
       "      <td>-121.800000</td>\n",
       "      <td>33.940000</td>\n",
       "      <td>18.000000</td>\n",
       "      <td>1443.000000</td>\n",
       "      <td>295.000000</td>\n",
       "      <td>784.000000</td>\n",
       "      <td>279.000000</td>\n",
       "      <td>2.566775</td>\n",
       "      <td>119800.000000</td>\n",
       "      <td>4.442040</td>\n",
       "      <td>0.175304</td>\n",
       "      <td>2.431287</td>\n",
       "    </tr>\n",
       "    <tr>\n",
       "      <th>50%</th>\n",
       "      <td>-118.510000</td>\n",
       "      <td>34.260000</td>\n",
       "      <td>29.000000</td>\n",
       "      <td>2119.500000</td>\n",
       "      <td>433.000000</td>\n",
       "      <td>1164.000000</td>\n",
       "      <td>408.000000</td>\n",
       "      <td>3.540900</td>\n",
       "      <td>179500.000000</td>\n",
       "      <td>5.232284</td>\n",
       "      <td>0.203031</td>\n",
       "      <td>2.817653</td>\n",
       "    </tr>\n",
       "    <tr>\n",
       "      <th>75%</th>\n",
       "      <td>-118.010000</td>\n",
       "      <td>37.720000</td>\n",
       "      <td>37.000000</td>\n",
       "      <td>3141.000000</td>\n",
       "      <td>644.000000</td>\n",
       "      <td>1719.250000</td>\n",
       "      <td>602.000000</td>\n",
       "      <td>4.744475</td>\n",
       "      <td>263900.000000</td>\n",
       "      <td>6.056361</td>\n",
       "      <td>0.239831</td>\n",
       "      <td>3.281420</td>\n",
       "    </tr>\n",
       "    <tr>\n",
       "      <th>max</th>\n",
       "      <td>-114.310000</td>\n",
       "      <td>41.950000</td>\n",
       "      <td>52.000000</td>\n",
       "      <td>39320.000000</td>\n",
       "      <td>6210.000000</td>\n",
       "      <td>35682.000000</td>\n",
       "      <td>5358.000000</td>\n",
       "      <td>15.000100</td>\n",
       "      <td>500001.000000</td>\n",
       "      <td>141.909091</td>\n",
       "      <td>1.000000</td>\n",
       "      <td>1243.333333</td>\n",
       "    </tr>\n",
       "  </tbody>\n",
       "</table>\n",
       "</div>"
      ],
      "text/plain": [
       "          longitude      latitude  housing_median_age   total_rooms  \\\n",
       "count  16512.000000  16512.000000        16512.000000  16512.000000   \n",
       "mean    -119.575834     35.639577           28.653101   2622.728319   \n",
       "std        2.001860      2.138058           12.574726   2138.458419   \n",
       "min     -124.350000     32.540000            1.000000      6.000000   \n",
       "25%     -121.800000     33.940000           18.000000   1443.000000   \n",
       "50%     -118.510000     34.260000           29.000000   2119.500000   \n",
       "75%     -118.010000     37.720000           37.000000   3141.000000   \n",
       "max     -114.310000     41.950000           52.000000  39320.000000   \n",
       "\n",
       "       total_bedrooms    population    households  median_income  \\\n",
       "count    16354.000000  16512.000000  16512.000000   16512.000000   \n",
       "mean       534.973890   1419.790819    497.060380       3.875589   \n",
       "std        412.699041   1115.686241    375.720845       1.904950   \n",
       "min          2.000000      3.000000      2.000000       0.499900   \n",
       "25%        295.000000    784.000000    279.000000       2.566775   \n",
       "50%        433.000000   1164.000000    408.000000       3.540900   \n",
       "75%        644.000000   1719.250000    602.000000       4.744475   \n",
       "max       6210.000000  35682.000000   5358.000000      15.000100   \n",
       "\n",
       "       median_house_value  rooms_per_household  bedrooms_per_room  \\\n",
       "count        16512.000000         16512.000000       16354.000000   \n",
       "mean        206990.920724             5.440341           0.212878   \n",
       "std         115703.014830             2.611712           0.057379   \n",
       "min          14999.000000             1.130435           0.100000   \n",
       "25%         119800.000000             4.442040           0.175304   \n",
       "50%         179500.000000             5.232284           0.203031   \n",
       "75%         263900.000000             6.056361           0.239831   \n",
       "max         500001.000000           141.909091           1.000000   \n",
       "\n",
       "       population_per_household  \n",
       "count              16512.000000  \n",
       "mean                   3.096437  \n",
       "std                   11.584826  \n",
       "min                    0.692308  \n",
       "25%                    2.431287  \n",
       "50%                    2.817653  \n",
       "75%                    3.281420  \n",
       "max                 1243.333333  "
      ]
     },
     "execution_count": 400,
     "metadata": {},
     "output_type": "execute_result"
    }
   ],
   "source": [
    "#새로운 특성을 추가한후 평균,표준편차,최소값,최대값등 살펴보기\n",
    "p182591.describe()"
   ]
  },
  {
   "cell_type": "markdown",
   "metadata": {
    "id": "K6cqxk-6BTFE"
   },
   "source": [
    "## 데이터 정제"
   ]
  },
  {
   "cell_type": "code",
   "execution_count": 401,
   "metadata": {
    "execution": {
     "iopub.execute_input": "2021-11-03T03:33:31.605466Z",
     "iopub.status.busy": "2021-11-03T03:33:31.604439Z",
     "iopub.status.idle": "2021-11-03T03:33:31.607367Z",
     "shell.execute_reply": "2021-11-03T03:33:31.608010Z"
    },
    "executionInfo": {
     "elapsed": 123,
     "status": "ok",
     "timestamp": 1647496687203,
     "user": {
      "displayName": "Hyung-jeong Yang",
      "photoUrl": "https://lh3.googleusercontent.com/a/default-user=s64",
      "userId": "02381304708881262053"
     },
     "user_tz": -540
    },
    "id": "LZMiZDmQBTFE"
   },
   "outputs": [],
   "source": [
    "# 훈련 세트를 위해 레이블인 \"median_house_value\" 삭제\n",
    "# p182591_labels에 \"median_house_value\" 넣어주기\n",
    "p182591 = strat_train_set.drop(\"median_house_value\", axis=1) \n",
    "p182591_labels = strat_train_set[\"median_house_value\"].copy()"
   ]
  },
  {
   "cell_type": "code",
   "execution_count": 402,
   "metadata": {
    "scrolled": true
   },
   "outputs": [
    {
     "data": {
      "text/html": [
       "<div>\n",
       "<style scoped>\n",
       "    .dataframe tbody tr th:only-of-type {\n",
       "        vertical-align: middle;\n",
       "    }\n",
       "\n",
       "    .dataframe tbody tr th {\n",
       "        vertical-align: top;\n",
       "    }\n",
       "\n",
       "    .dataframe thead th {\n",
       "        text-align: right;\n",
       "    }\n",
       "</style>\n",
       "<table border=\"1\" class=\"dataframe\">\n",
       "  <thead>\n",
       "    <tr style=\"text-align: right;\">\n",
       "      <th></th>\n",
       "      <th>longitude</th>\n",
       "      <th>latitude</th>\n",
       "      <th>housing_median_age</th>\n",
       "      <th>total_rooms</th>\n",
       "      <th>total_bedrooms</th>\n",
       "      <th>population</th>\n",
       "      <th>households</th>\n",
       "      <th>median_income</th>\n",
       "      <th>ocean_proximity</th>\n",
       "    </tr>\n",
       "  </thead>\n",
       "  <tbody>\n",
       "    <tr>\n",
       "      <th>17606</th>\n",
       "      <td>-121.89</td>\n",
       "      <td>37.29</td>\n",
       "      <td>38.0</td>\n",
       "      <td>1568.0</td>\n",
       "      <td>351.0</td>\n",
       "      <td>710.0</td>\n",
       "      <td>339.0</td>\n",
       "      <td>2.7042</td>\n",
       "      <td>&lt;1H OCEAN</td>\n",
       "    </tr>\n",
       "    <tr>\n",
       "      <th>18632</th>\n",
       "      <td>-121.93</td>\n",
       "      <td>37.05</td>\n",
       "      <td>14.0</td>\n",
       "      <td>679.0</td>\n",
       "      <td>108.0</td>\n",
       "      <td>306.0</td>\n",
       "      <td>113.0</td>\n",
       "      <td>6.4214</td>\n",
       "      <td>&lt;1H OCEAN</td>\n",
       "    </tr>\n",
       "    <tr>\n",
       "      <th>14650</th>\n",
       "      <td>-117.20</td>\n",
       "      <td>32.77</td>\n",
       "      <td>31.0</td>\n",
       "      <td>1952.0</td>\n",
       "      <td>471.0</td>\n",
       "      <td>936.0</td>\n",
       "      <td>462.0</td>\n",
       "      <td>2.8621</td>\n",
       "      <td>NEAR OCEAN</td>\n",
       "    </tr>\n",
       "    <tr>\n",
       "      <th>3230</th>\n",
       "      <td>-119.61</td>\n",
       "      <td>36.31</td>\n",
       "      <td>25.0</td>\n",
       "      <td>1847.0</td>\n",
       "      <td>371.0</td>\n",
       "      <td>1460.0</td>\n",
       "      <td>353.0</td>\n",
       "      <td>1.8839</td>\n",
       "      <td>INLAND</td>\n",
       "    </tr>\n",
       "    <tr>\n",
       "      <th>3555</th>\n",
       "      <td>-118.59</td>\n",
       "      <td>34.23</td>\n",
       "      <td>17.0</td>\n",
       "      <td>6592.0</td>\n",
       "      <td>1525.0</td>\n",
       "      <td>4459.0</td>\n",
       "      <td>1463.0</td>\n",
       "      <td>3.0347</td>\n",
       "      <td>&lt;1H OCEAN</td>\n",
       "    </tr>\n",
       "  </tbody>\n",
       "</table>\n",
       "</div>"
      ],
      "text/plain": [
       "       longitude  latitude  housing_median_age  total_rooms  total_bedrooms  \\\n",
       "17606    -121.89     37.29                38.0       1568.0           351.0   \n",
       "18632    -121.93     37.05                14.0        679.0           108.0   \n",
       "14650    -117.20     32.77                31.0       1952.0           471.0   \n",
       "3230     -119.61     36.31                25.0       1847.0           371.0   \n",
       "3555     -118.59     34.23                17.0       6592.0          1525.0   \n",
       "\n",
       "       population  households  median_income ocean_proximity  \n",
       "17606       710.0       339.0         2.7042       <1H OCEAN  \n",
       "18632       306.0       113.0         6.4214       <1H OCEAN  \n",
       "14650       936.0       462.0         2.8621      NEAR OCEAN  \n",
       "3230       1460.0       353.0         1.8839          INLAND  \n",
       "3555       4459.0      1463.0         3.0347       <1H OCEAN  "
      ]
     },
     "execution_count": 402,
     "metadata": {},
     "output_type": "execute_result"
    }
   ],
   "source": [
    "#데이터 확인\n",
    "p182591.head()"
   ]
  },
  {
   "cell_type": "code",
   "execution_count": 403,
   "metadata": {},
   "outputs": [
    {
     "name": "stdout",
     "output_type": "stream",
     "text": [
      "<class 'pandas.core.frame.DataFrame'>\n",
      "Int64Index: 16512 entries, 17606 to 15775\n",
      "Data columns (total 9 columns):\n",
      "longitude             16512 non-null float64\n",
      "latitude              16512 non-null float64\n",
      "housing_median_age    16512 non-null float64\n",
      "total_rooms           16512 non-null float64\n",
      "total_bedrooms        16354 non-null float64\n",
      "population            16512 non-null float64\n",
      "households            16512 non-null float64\n",
      "median_income         16512 non-null float64\n",
      "ocean_proximity       16512 non-null object\n",
      "dtypes: float64(8), object(1)\n",
      "memory usage: 1.3+ MB\n"
     ]
    }
   ],
   "source": [
    "#데이터 확인\n",
    "p182591.info()"
   ]
  },
  {
   "cell_type": "markdown",
   "metadata": {},
   "source": [
    "## 스케일링 하기"
   ]
  },
  {
   "cell_type": "code",
   "execution_count": 404,
   "metadata": {
    "execution": {
     "iopub.execute_input": "2021-11-03T03:33:31.759421Z",
     "iopub.status.busy": "2021-11-03T03:33:31.758453Z",
     "iopub.status.idle": "2021-11-03T03:33:31.760416Z",
     "shell.execute_reply": "2021-11-03T03:33:31.761074Z"
    },
    "executionInfo": {
     "elapsed": 118,
     "status": "ok",
     "timestamp": 1647496687209,
     "user": {
      "displayName": "Hyung-jeong Yang",
      "photoUrl": "https://lh3.googleusercontent.com/a/default-user=s64",
      "userId": "02381304708881262053"
     },
     "user_tz": -540
    },
    "id": "qVW1UhdtBTFF"
   },
   "outputs": [],
   "source": [
    "#우선 스케일링을 위해 수치형 데이터만 있는 p182591_num 만들기\n",
    "p182591_num = p182591.drop(\"ocean_proximity\", axis=1)"
   ]
  },
  {
   "cell_type": "code",
   "execution_count": 405,
   "metadata": {},
   "outputs": [],
   "source": [
    "#사이킷런에서 제공하는 standardscaler를 이용하여 정규화 하기 \n",
    "from sklearn.preprocessing import StandardScaler\n",
    "import pandas as pd\n",
    "\n",
    "\n",
    "scaler = StandardScaler()\n",
    "scaler.fit(p182591_num)\n",
    "p182591_num_scaled = scaler.transform(p182591_num)\n",
    "\n",
    "p182591_num_scaled = pd.DataFrame(data=p182591_num_scaled, columns=p182591_num.columns.values)"
   ]
  },
  {
   "cell_type": "code",
   "execution_count": 406,
   "metadata": {},
   "outputs": [
    {
     "data": {
      "text/html": [
       "<div>\n",
       "<style scoped>\n",
       "    .dataframe tbody tr th:only-of-type {\n",
       "        vertical-align: middle;\n",
       "    }\n",
       "\n",
       "    .dataframe tbody tr th {\n",
       "        vertical-align: top;\n",
       "    }\n",
       "\n",
       "    .dataframe thead th {\n",
       "        text-align: right;\n",
       "    }\n",
       "</style>\n",
       "<table border=\"1\" class=\"dataframe\">\n",
       "  <thead>\n",
       "    <tr style=\"text-align: right;\">\n",
       "      <th></th>\n",
       "      <th>longitude</th>\n",
       "      <th>latitude</th>\n",
       "      <th>housing_median_age</th>\n",
       "      <th>total_rooms</th>\n",
       "      <th>total_bedrooms</th>\n",
       "      <th>population</th>\n",
       "      <th>households</th>\n",
       "      <th>median_income</th>\n",
       "    </tr>\n",
       "  </thead>\n",
       "  <tbody>\n",
       "    <tr>\n",
       "      <th>0</th>\n",
       "      <td>-1.156043</td>\n",
       "      <td>0.771950</td>\n",
       "      <td>0.743331</td>\n",
       "      <td>-0.493234</td>\n",
       "      <td>-0.445796</td>\n",
       "      <td>-0.636211</td>\n",
       "      <td>-0.420698</td>\n",
       "      <td>-0.614937</td>\n",
       "    </tr>\n",
       "    <tr>\n",
       "      <th>1</th>\n",
       "      <td>-1.176025</td>\n",
       "      <td>0.659695</td>\n",
       "      <td>-1.165317</td>\n",
       "      <td>-0.908967</td>\n",
       "      <td>-1.034621</td>\n",
       "      <td>-0.998331</td>\n",
       "      <td>-1.022227</td>\n",
       "      <td>1.336459</td>\n",
       "    </tr>\n",
       "    <tr>\n",
       "      <th>2</th>\n",
       "      <td>1.186849</td>\n",
       "      <td>-1.342183</td>\n",
       "      <td>0.186642</td>\n",
       "      <td>-0.313660</td>\n",
       "      <td>-0.155018</td>\n",
       "      <td>-0.433639</td>\n",
       "      <td>-0.093318</td>\n",
       "      <td>-0.532046</td>\n",
       "    </tr>\n",
       "    <tr>\n",
       "      <th>3</th>\n",
       "      <td>-0.017068</td>\n",
       "      <td>0.313576</td>\n",
       "      <td>-0.290520</td>\n",
       "      <td>-0.362762</td>\n",
       "      <td>-0.397333</td>\n",
       "      <td>0.036041</td>\n",
       "      <td>-0.383436</td>\n",
       "      <td>-1.045566</td>\n",
       "    </tr>\n",
       "    <tr>\n",
       "      <th>4</th>\n",
       "      <td>0.492474</td>\n",
       "      <td>-0.659299</td>\n",
       "      <td>-0.926736</td>\n",
       "      <td>1.856193</td>\n",
       "      <td>2.398979</td>\n",
       "      <td>2.724154</td>\n",
       "      <td>2.570975</td>\n",
       "      <td>-0.441437</td>\n",
       "    </tr>\n",
       "  </tbody>\n",
       "</table>\n",
       "</div>"
      ],
      "text/plain": [
       "   longitude  latitude  housing_median_age  total_rooms  total_bedrooms  \\\n",
       "0  -1.156043  0.771950            0.743331    -0.493234       -0.445796   \n",
       "1  -1.176025  0.659695           -1.165317    -0.908967       -1.034621   \n",
       "2   1.186849 -1.342183            0.186642    -0.313660       -0.155018   \n",
       "3  -0.017068  0.313576           -0.290520    -0.362762       -0.397333   \n",
       "4   0.492474 -0.659299           -0.926736     1.856193        2.398979   \n",
       "\n",
       "   population  households  median_income  \n",
       "0   -0.636211   -0.420698      -0.614937  \n",
       "1   -0.998331   -1.022227       1.336459  \n",
       "2   -0.433639   -0.093318      -0.532046  \n",
       "3    0.036041   -0.383436      -1.045566  \n",
       "4    2.724154    2.570975      -0.441437  "
      ]
     },
     "execution_count": 406,
     "metadata": {},
     "output_type": "execute_result"
    }
   ],
   "source": [
    "#head를 이용하여 제대로 스케일링 되었는지 확인하기 \n",
    "p182591_num_scaled.head()"
   ]
  },
  {
   "cell_type": "code",
   "execution_count": 407,
   "metadata": {},
   "outputs": [],
   "source": [
    "#사이킷런에서 제공하는 MinMaxScaler를 이용하여 표준화하기 \n",
    "from sklearn.preprocessing import MinMaxScaler\n",
    "\n",
    "scaler =MinMaxScaler()\n",
    "scaler.fit(p182591_num)\n",
    "p182591_num_scaled = scaler.transform(p182591_num)\n",
    "\n",
    "p182591_num_scaled = pd.DataFrame(data=p182591_num_scaled, columns=p182591_num.columns.values)"
   ]
  },
  {
   "cell_type": "code",
   "execution_count": 408,
   "metadata": {
    "scrolled": true
   },
   "outputs": [
    {
     "data": {
      "text/html": [
       "<div>\n",
       "<style scoped>\n",
       "    .dataframe tbody tr th:only-of-type {\n",
       "        vertical-align: middle;\n",
       "    }\n",
       "\n",
       "    .dataframe tbody tr th {\n",
       "        vertical-align: top;\n",
       "    }\n",
       "\n",
       "    .dataframe thead th {\n",
       "        text-align: right;\n",
       "    }\n",
       "</style>\n",
       "<table border=\"1\" class=\"dataframe\">\n",
       "  <thead>\n",
       "    <tr style=\"text-align: right;\">\n",
       "      <th></th>\n",
       "      <th>longitude</th>\n",
       "      <th>latitude</th>\n",
       "      <th>housing_median_age</th>\n",
       "      <th>total_rooms</th>\n",
       "      <th>total_bedrooms</th>\n",
       "      <th>population</th>\n",
       "      <th>households</th>\n",
       "      <th>median_income</th>\n",
       "    </tr>\n",
       "  </thead>\n",
       "  <tbody>\n",
       "    <tr>\n",
       "      <th>0</th>\n",
       "      <td>0.245020</td>\n",
       "      <td>0.504782</td>\n",
       "      <td>0.725490</td>\n",
       "      <td>0.039731</td>\n",
       "      <td>0.056218</td>\n",
       "      <td>0.019816</td>\n",
       "      <td>0.062920</td>\n",
       "      <td>0.152019</td>\n",
       "    </tr>\n",
       "    <tr>\n",
       "      <th>1</th>\n",
       "      <td>0.241036</td>\n",
       "      <td>0.479277</td>\n",
       "      <td>0.254902</td>\n",
       "      <td>0.017119</td>\n",
       "      <td>0.017075</td>\n",
       "      <td>0.008492</td>\n",
       "      <td>0.020724</td>\n",
       "      <td>0.408374</td>\n",
       "    </tr>\n",
       "    <tr>\n",
       "      <th>2</th>\n",
       "      <td>0.712151</td>\n",
       "      <td>0.024442</td>\n",
       "      <td>0.588235</td>\n",
       "      <td>0.049499</td>\n",
       "      <td>0.075548</td>\n",
       "      <td>0.026150</td>\n",
       "      <td>0.085885</td>\n",
       "      <td>0.162908</td>\n",
       "    </tr>\n",
       "    <tr>\n",
       "      <th>3</th>\n",
       "      <td>0.472112</td>\n",
       "      <td>0.400638</td>\n",
       "      <td>0.470588</td>\n",
       "      <td>0.046828</td>\n",
       "      <td>0.059439</td>\n",
       "      <td>0.040836</td>\n",
       "      <td>0.065534</td>\n",
       "      <td>0.095447</td>\n",
       "    </tr>\n",
       "    <tr>\n",
       "      <th>4</th>\n",
       "      <td>0.573705</td>\n",
       "      <td>0.179596</td>\n",
       "      <td>0.313725</td>\n",
       "      <td>0.167523</td>\n",
       "      <td>0.245329</td>\n",
       "      <td>0.124891</td>\n",
       "      <td>0.272778</td>\n",
       "      <td>0.174811</td>\n",
       "    </tr>\n",
       "  </tbody>\n",
       "</table>\n",
       "</div>"
      ],
      "text/plain": [
       "   longitude  latitude  housing_median_age  total_rooms  total_bedrooms  \\\n",
       "0   0.245020  0.504782            0.725490     0.039731        0.056218   \n",
       "1   0.241036  0.479277            0.254902     0.017119        0.017075   \n",
       "2   0.712151  0.024442            0.588235     0.049499        0.075548   \n",
       "3   0.472112  0.400638            0.470588     0.046828        0.059439   \n",
       "4   0.573705  0.179596            0.313725     0.167523        0.245329   \n",
       "\n",
       "   population  households  median_income  \n",
       "0    0.019816    0.062920       0.152019  \n",
       "1    0.008492    0.020724       0.408374  \n",
       "2    0.026150    0.085885       0.162908  \n",
       "3    0.040836    0.065534       0.095447  \n",
       "4    0.124891    0.272778       0.174811  "
      ]
     },
     "execution_count": 408,
     "metadata": {},
     "output_type": "execute_result"
    }
   ],
   "source": [
    "#head를 이용하여 제대로 표준화 되었는지 확인하기 \n",
    "p182591_num_scaled.head()"
   ]
  },
  {
   "cell_type": "markdown",
   "metadata": {
    "id": "XavmpPPgBTFG"
   },
   "source": [
    "## 원핫인코딩 적용하기"
   ]
  },
  {
   "cell_type": "code",
   "execution_count": 409,
   "metadata": {
    "colab": {
     "base_uri": "https://localhost:8080/",
     "height": 363
    },
    "execution": {
     "iopub.execute_input": "2021-11-03T03:33:31.875408Z",
     "iopub.status.busy": "2021-11-03T03:33:31.874637Z",
     "iopub.status.idle": "2021-11-03T03:33:31.878104Z",
     "shell.execute_reply": "2021-11-03T03:33:31.878532Z"
    },
    "executionInfo": {
     "elapsed": 101,
     "status": "ok",
     "timestamp": 1647496687218,
     "user": {
      "displayName": "Hyung-jeong Yang",
      "photoUrl": "https://lh3.googleusercontent.com/a/default-user=s64",
      "userId": "02381304708881262053"
     },
     "user_tz": -540
    },
    "id": "Q926-XEhBTFH",
    "outputId": "42de2646-7def-4027-e7a1-4fa8ede2eeb0"
   },
   "outputs": [
    {
     "data": {
      "text/html": [
       "<div>\n",
       "<style scoped>\n",
       "    .dataframe tbody tr th:only-of-type {\n",
       "        vertical-align: middle;\n",
       "    }\n",
       "\n",
       "    .dataframe tbody tr th {\n",
       "        vertical-align: top;\n",
       "    }\n",
       "\n",
       "    .dataframe thead th {\n",
       "        text-align: right;\n",
       "    }\n",
       "</style>\n",
       "<table border=\"1\" class=\"dataframe\">\n",
       "  <thead>\n",
       "    <tr style=\"text-align: right;\">\n",
       "      <th></th>\n",
       "      <th>ocean_proximity</th>\n",
       "    </tr>\n",
       "  </thead>\n",
       "  <tbody>\n",
       "    <tr>\n",
       "      <th>17606</th>\n",
       "      <td>&lt;1H OCEAN</td>\n",
       "    </tr>\n",
       "    <tr>\n",
       "      <th>18632</th>\n",
       "      <td>&lt;1H OCEAN</td>\n",
       "    </tr>\n",
       "    <tr>\n",
       "      <th>14650</th>\n",
       "      <td>NEAR OCEAN</td>\n",
       "    </tr>\n",
       "    <tr>\n",
       "      <th>3230</th>\n",
       "      <td>INLAND</td>\n",
       "    </tr>\n",
       "    <tr>\n",
       "      <th>3555</th>\n",
       "      <td>&lt;1H OCEAN</td>\n",
       "    </tr>\n",
       "  </tbody>\n",
       "</table>\n",
       "</div>"
      ],
      "text/plain": [
       "      ocean_proximity\n",
       "17606       <1H OCEAN\n",
       "18632       <1H OCEAN\n",
       "14650      NEAR OCEAN\n",
       "3230           INLAND\n",
       "3555        <1H OCEAN"
      ]
     },
     "execution_count": 409,
     "metadata": {},
     "output_type": "execute_result"
    }
   ],
   "source": [
    "#범주형 특징인 ocean_proximity를 원핫 인코딩을 위해 p182591_cat에 따로 분리\n",
    "p182591_cat = p182591[[\"ocean_proximity\"]]\n",
    "p182591_cat.head()"
   ]
  },
  {
   "cell_type": "code",
   "execution_count": 410,
   "metadata": {
    "colab": {
     "base_uri": "https://localhost:8080/"
    },
    "execution": {
     "iopub.execute_input": "2021-11-03T03:33:31.897476Z",
     "iopub.status.busy": "2021-11-03T03:33:31.896792Z",
     "iopub.status.idle": "2021-11-03T03:33:31.900986Z",
     "shell.execute_reply": "2021-11-03T03:33:31.901681Z"
    },
    "executionInfo": {
     "elapsed": 96,
     "status": "ok",
     "timestamp": 1647496687224,
     "user": {
      "displayName": "Hyung-jeong Yang",
      "photoUrl": "https://lh3.googleusercontent.com/a/default-user=s64",
      "userId": "02381304708881262053"
     },
     "user_tz": -540
    },
    "id": "3zXolxmkBTFH",
    "outputId": "f6a51176-3cbd-43da-f658-59778f264d62"
   },
   "outputs": [
    {
     "data": {
      "text/plain": [
       "[array(['<1H OCEAN', 'INLAND', 'ISLAND', 'NEAR BAY', 'NEAR OCEAN'],\n",
       "       dtype=object)]"
      ]
     },
     "execution_count": 410,
     "metadata": {},
     "output_type": "execute_result"
    }
   ],
   "source": [
    "# 카테고리 목록보기\n",
    "ordinal_encoder.categories_"
   ]
  },
  {
   "cell_type": "code",
   "execution_count": 411,
   "metadata": {
    "colab": {
     "base_uri": "https://localhost:8080/"
    },
    "execution": {
     "iopub.execute_input": "2021-11-03T03:33:31.911522Z",
     "iopub.status.busy": "2021-11-03T03:33:31.910737Z",
     "iopub.status.idle": "2021-11-03T03:33:31.913942Z",
     "shell.execute_reply": "2021-11-03T03:33:31.914370Z"
    },
    "executionInfo": {
     "elapsed": 93,
     "status": "ok",
     "timestamp": 1647496687225,
     "user": {
      "displayName": "Hyung-jeong Yang",
      "photoUrl": "https://lh3.googleusercontent.com/a/default-user=s64",
      "userId": "02381304708881262053"
     },
     "user_tz": -540
    },
    "id": "bQXnkwMuBTFH",
    "outputId": "d707106b-25f3-403d-ebdb-03c1d94bedf2"
   },
   "outputs": [
    {
     "data": {
      "text/plain": [
       "array([[1., 0., 0., 0., 0.],\n",
       "       [1., 0., 0., 0., 0.],\n",
       "       [0., 0., 0., 0., 1.],\n",
       "       ...,\n",
       "       [0., 1., 0., 0., 0.],\n",
       "       [1., 0., 0., 0., 0.],\n",
       "       [0., 0., 0., 1., 0.]])"
      ]
     },
     "execution_count": 411,
     "metadata": {},
     "output_type": "execute_result"
    }
   ],
   "source": [
    "# OneHotEncoding : 한 특성만 1이고 나머지는 0\n",
    "# 사이킷런에서 제공하는 OneHotEncoder를 이용하여 원핫인코딩 하기 \n",
    "from sklearn.preprocessing import OneHotEncoder\n",
    "\n",
    "cat_encoder = OneHotEncoder(sparse=False)\n",
    "p182591_cat_1hot = cat_encoder.fit_transform(p182591_cat)\n",
    "p182591_cat_1hot"
   ]
  },
  {
   "cell_type": "code",
   "execution_count": 412,
   "metadata": {
    "colab": {
     "base_uri": "https://localhost:8080/"
    },
    "execution": {
     "iopub.execute_input": "2021-11-03T03:33:31.941498Z",
     "iopub.status.busy": "2021-11-03T03:33:31.940851Z",
     "iopub.status.idle": "2021-11-03T03:33:31.944614Z",
     "shell.execute_reply": "2021-11-03T03:33:31.943908Z"
    },
    "executionInfo": {
     "elapsed": 82,
     "status": "ok",
     "timestamp": 1647496687228,
     "user": {
      "displayName": "Hyung-jeong Yang",
      "photoUrl": "https://lh3.googleusercontent.com/a/default-user=s64",
      "userId": "02381304708881262053"
     },
     "user_tz": -540
    },
    "id": "tJT4p3KJBTFI",
    "outputId": "033ac3db-2dc6-4680-d909-8237fceea97f",
    "scrolled": true
   },
   "outputs": [
    {
     "data": {
      "text/plain": [
       "[array(['<1H OCEAN', 'INLAND', 'ISLAND', 'NEAR BAY', 'NEAR OCEAN'],\n",
       "       dtype=object)]"
      ]
     },
     "execution_count": 412,
     "metadata": {},
     "output_type": "execute_result"
    }
   ],
   "source": [
    "# 카테고리 리스트 보기\n",
    "cat_encoder.categories_"
   ]
  },
  {
   "cell_type": "code",
   "execution_count": 413,
   "metadata": {},
   "outputs": [],
   "source": [
    "from sklearn.base import BaseEstimator, TransformerMixin\n",
    "\n",
    "# 열 인덱스\n",
    "rooms_ix, bedrooms_ix, population_ix, households_ix = 3, 4, 5, 6\n",
    "\n",
    "class CombinedAttributesAdder(BaseEstimator, TransformerMixin):\n",
    "    def __init__(self, add_bedrooms_per_room=True): # *args 또는 **kargs 없음\n",
    "        self.add_bedrooms_per_room = add_bedrooms_per_room\n",
    "    def fit(self, X, y=None):\n",
    "        return self  # 아무것도 하지 않습니다\n",
    "    def transform(self, X):\n",
    "        rooms_per_household = X[:, rooms_ix] / X[:, households_ix]\n",
    "        population_per_household = X[:, population_ix] / X[:, households_ix]\n",
    "        if self.add_bedrooms_per_room:\n",
    "            bedrooms_per_room = X[:, bedrooms_ix] / X[:, rooms_ix]\n",
    "            return np.c_[X, rooms_per_household, population_per_household,\n",
    "                         bedrooms_per_room]\n",
    "        else:\n",
    "            return np.c_[X, rooms_per_household, population_per_household]\n",
    "\n",
    "attr_adder = CombinedAttributesAdder(add_bedrooms_per_room=False)\n",
    "housing_extra_attribs = attr_adder.transform(p182591.to_numpy())\n"
   ]
  },
  {
   "cell_type": "markdown",
   "metadata": {
    "id": "BHOuZML8BTFI"
   },
   "source": [
    "## 수치형 데이터 파이프라인 설계"
   ]
  },
  {
   "cell_type": "code",
   "execution_count": 414,
   "metadata": {
    "execution": {
     "iopub.execute_input": "2021-11-03T03:33:31.992030Z",
     "iopub.status.busy": "2021-11-03T03:33:31.991391Z",
     "iopub.status.idle": "2021-11-03T03:33:32.019129Z",
     "shell.execute_reply": "2021-11-03T03:33:32.018479Z"
    },
    "executionInfo": {
     "elapsed": 204,
     "status": "ok",
     "timestamp": 1647496688013,
     "user": {
      "displayName": "Hyung-jeong Yang",
      "photoUrl": "https://lh3.googleusercontent.com/a/default-user=s64",
      "userId": "02381304708881262053"
     },
     "user_tz": -540
    },
    "id": "Msu7c-3CBTFJ"
   },
   "outputs": [],
   "source": [
    "# 파이프라인 : 연속된 단계를 나타냄\n",
    "# 이름/추정기쌍으로 목록입력\n",
    "\n",
    "from sklearn.pipeline import Pipeline\n",
    "from sklearn.preprocessing import StandardScaler\n",
    "from sklearn.impute import SimpleImputer\n",
    "\n",
    "#사이킷런의 파이프라인과 StandardScaler,SimpleImputer을 이용하여\n",
    "#수치형 데이터를 처리하는 파이프라인 설계\n",
    "\n",
    "imputer = SimpleImputer(strategy=\"median\")\n",
    "\n",
    "num_pipeline = Pipeline([\n",
    "        ('imputer', SimpleImputer(strategy=\"median\")),\n",
    "        ('attribs_adder', CombinedAttributesAdder()),\n",
    "        ('std_scaler', StandardScaler()),\n",
    "    ])\n",
    "#파이프라인을 적용한 것을 p182591_num_tr에 저장\n",
    "p182591_num_tr = num_pipeline.fit_transform(p182591_num)"
   ]
  },
  {
   "cell_type": "code",
   "execution_count": 415,
   "metadata": {
    "colab": {
     "base_uri": "https://localhost:8080/"
    },
    "execution": {
     "iopub.execute_input": "2021-11-03T03:33:32.024369Z",
     "iopub.status.busy": "2021-11-03T03:33:32.023742Z",
     "iopub.status.idle": "2021-11-03T03:33:32.026880Z",
     "shell.execute_reply": "2021-11-03T03:33:32.027285Z"
    },
    "executionInfo": {
     "elapsed": 201,
     "status": "ok",
     "timestamp": 1647496688014,
     "user": {
      "displayName": "Hyung-jeong Yang",
      "photoUrl": "https://lh3.googleusercontent.com/a/default-user=s64",
      "userId": "02381304708881262053"
     },
     "user_tz": -540
    },
    "id": "NjAtBnBuBTFJ",
    "outputId": "3c093467-e302-40ca-b713-9093cfb1e2bb"
   },
   "outputs": [
    {
     "data": {
      "text/plain": [
       "array([[-1.15604281,  0.77194962,  0.74333089, ..., -0.31205452,\n",
       "        -0.08649871,  0.15531753],\n",
       "       [-1.17602483,  0.6596948 , -1.1653172 , ...,  0.21768338,\n",
       "        -0.03353391, -0.83628902],\n",
       "       [ 1.18684903, -1.34218285,  0.18664186, ..., -0.46531516,\n",
       "        -0.09240499,  0.4222004 ],\n",
       "       ...,\n",
       "       [ 1.58648943, -0.72478134, -1.56295222, ...,  0.3469342 ,\n",
       "        -0.03055414, -0.52177644],\n",
       "       [ 0.78221312, -0.85106801,  0.18664186, ...,  0.02499488,\n",
       "         0.06150916, -0.30340741],\n",
       "       [-1.43579109,  0.99645926,  1.85670895, ..., -0.22852947,\n",
       "        -0.09586294,  0.10180567]])"
      ]
     },
     "execution_count": 415,
     "metadata": {},
     "output_type": "execute_result"
    }
   ],
   "source": [
    "#p182591_num_tr이 잘 적용되었는지 확인\n",
    "p182591_num_tr"
   ]
  },
  {
   "cell_type": "markdown",
   "metadata": {},
   "source": [
    "## 전체 데이터 파이프 라인 설계"
   ]
  },
  {
   "cell_type": "code",
   "execution_count": 416,
   "metadata": {
    "execution": {
     "iopub.execute_input": "2021-11-03T03:33:32.031793Z",
     "iopub.status.busy": "2021-11-03T03:33:32.031145Z",
     "iopub.status.idle": "2021-11-03T03:33:32.067633Z",
     "shell.execute_reply": "2021-11-03T03:33:32.066989Z"
    },
    "executionInfo": {
     "elapsed": 73,
     "status": "ok",
     "timestamp": 1647496688018,
     "user": {
      "displayName": "Hyung-jeong Yang",
      "photoUrl": "https://lh3.googleusercontent.com/a/default-user=s64",
      "userId": "02381304708881262053"
     },
     "user_tz": -540
    },
    "id": "3ftVDp95BTFJ"
   },
   "outputs": [],
   "source": [
    "#하나의 변환기로 각 열마다 다른 변환 적용\n",
    "\n",
    "from sklearn.compose import ColumnTransformer\n",
    "\n",
    "# 수치형 열이름 리스트\n",
    "num_attribs = list(p182591_num)\n",
    "\n",
    "# 범주형 열이름 리스트\n",
    "cat_attribs = [\"ocean_proximity\"]\n",
    "\n",
    "# ColumnTransformer 객체 리스트\n",
    "# 이름, 변환기, 변환기 적용될 열 이름(인덱스)\n",
    "\n",
    "#전체 데이터에 한번에 적용하는 full_pipeline설계\n",
    "#수치형 데이터는 위에서 정의한 num_pipeline를 불러오기\n",
    "#카테고리 데이터는 원핫인코더를 이용해 처리하기 \n",
    "\n",
    "full_pipeline = ColumnTransformer([\n",
    "        (\"num\", num_pipeline, num_attribs),\n",
    "        (\"cat\", OneHotEncoder(), cat_attribs),\n",
    "    ])\n",
    "\n",
    "\n",
    "# num_pipeline은 밀집행렬, OneHotEncoder()은 희소행렬\n",
    "# ColumnTransformer이 밀집도( 0이 아닌 원소의 비율)가 임계값보다 낮으면 희소행렬 반환\n",
    "# 밀집도가 있어서 밀집행렬 반환\n",
    "\n",
    "\n",
    "# 파이프라인을 데이터에 적용\n",
    "p182591_prepared = full_pipeline.fit_transform(p182591)"
   ]
  },
  {
   "cell_type": "code",
   "execution_count": 417,
   "metadata": {
    "colab": {
     "base_uri": "https://localhost:8080/"
    },
    "execution": {
     "iopub.execute_input": "2021-11-03T03:33:32.072860Z",
     "iopub.status.busy": "2021-11-03T03:33:32.072222Z",
     "iopub.status.idle": "2021-11-03T03:33:32.074847Z",
     "shell.execute_reply": "2021-11-03T03:33:32.075276Z"
    },
    "executionInfo": {
     "elapsed": 76,
     "status": "ok",
     "timestamp": 1647496688022,
     "user": {
      "displayName": "Hyung-jeong Yang",
      "photoUrl": "https://lh3.googleusercontent.com/a/default-user=s64",
      "userId": "02381304708881262053"
     },
     "user_tz": -540
    },
    "id": "Sj7SSto6BTFJ",
    "outputId": "4db1a68f-357f-40eb-d610-d40eba6fb18a"
   },
   "outputs": [
    {
     "data": {
      "text/plain": [
       "array([[-1.15604281,  0.77194962,  0.74333089, ...,  0.        ,\n",
       "         0.        ,  0.        ],\n",
       "       [-1.17602483,  0.6596948 , -1.1653172 , ...,  0.        ,\n",
       "         0.        ,  0.        ],\n",
       "       [ 1.18684903, -1.34218285,  0.18664186, ...,  0.        ,\n",
       "         0.        ,  1.        ],\n",
       "       ...,\n",
       "       [ 1.58648943, -0.72478134, -1.56295222, ...,  0.        ,\n",
       "         0.        ,  0.        ],\n",
       "       [ 0.78221312, -0.85106801,  0.18664186, ...,  0.        ,\n",
       "         0.        ,  0.        ],\n",
       "       [-1.43579109,  0.99645926,  1.85670895, ...,  0.        ,\n",
       "         1.        ,  0.        ]])"
      ]
     },
     "execution_count": 417,
     "metadata": {},
     "output_type": "execute_result"
    }
   ],
   "source": [
    "#파이프라인이 잘적용되었는지 확인\n",
    "p182591_prepared"
   ]
  },
  {
   "cell_type": "code",
   "execution_count": 418,
   "metadata": {
    "colab": {
     "base_uri": "https://localhost:8080/"
    },
    "execution": {
     "iopub.execute_input": "2021-11-03T03:33:32.079759Z",
     "iopub.status.busy": "2021-11-03T03:33:32.079164Z",
     "iopub.status.idle": "2021-11-03T03:33:32.083411Z",
     "shell.execute_reply": "2021-11-03T03:33:32.083967Z"
    },
    "executionInfo": {
     "elapsed": 72,
     "status": "ok",
     "timestamp": 1647496688024,
     "user": {
      "displayName": "Hyung-jeong Yang",
      "photoUrl": "https://lh3.googleusercontent.com/a/default-user=s64",
      "userId": "02381304708881262053"
     },
     "user_tz": -540
    },
    "id": "Dyvipvu7BTFJ",
    "outputId": "3dbaab0a-3ceb-4217-b46f-ca0ddede544f"
   },
   "outputs": [
    {
     "data": {
      "text/plain": [
       "(16512, 16)"
      ]
     },
     "execution_count": 418,
     "metadata": {},
     "output_type": "execute_result"
    }
   ],
   "source": [
    "#준비된 데이터의 프레임 확인\n",
    "p182591_prepared.shape"
   ]
  },
  {
   "cell_type": "markdown",
   "metadata": {
    "id": "0Llcu_A_BTFK"
   },
   "source": [
    "# 훈련세트 모델 적용"
   ]
  },
  {
   "cell_type": "markdown",
   "metadata": {},
   "source": [
    "## 선형회귀 모델 적용"
   ]
  },
  {
   "cell_type": "code",
   "execution_count": 419,
   "metadata": {
    "colab": {
     "base_uri": "https://localhost:8080/"
    },
    "execution": {
     "iopub.execute_input": "2021-11-03T03:33:32.158403Z",
     "iopub.status.busy": "2021-11-03T03:33:32.157450Z",
     "iopub.status.idle": "2021-11-03T03:33:32.180638Z",
     "shell.execute_reply": "2021-11-03T03:33:32.181444Z"
    },
    "executionInfo": {
     "elapsed": 71,
     "status": "ok",
     "timestamp": 1647496688039,
     "user": {
      "displayName": "Hyung-jeong Yang",
      "photoUrl": "https://lh3.googleusercontent.com/a/default-user=s64",
      "userId": "02381304708881262053"
     },
     "user_tz": -540
    },
    "id": "QUEwgtOHBTFK",
    "outputId": "e4e4cec4-53d9-4c9d-f5bc-69ae69613463"
   },
   "outputs": [
    {
     "data": {
      "text/plain": [
       "LinearRegression(copy_X=True, fit_intercept=True, n_jobs=None, normalize=False)"
      ]
     },
     "execution_count": 419,
     "metadata": {},
     "output_type": "execute_result"
    }
   ],
   "source": [
    "# 선형회귀모델에 적용하기 \n",
    "\n",
    "from sklearn.linear_model import LinearRegression\n",
    "\n",
    "lin_reg = LinearRegression()\n",
    "lin_reg.fit(p182591_prepared, p182591_labels)"
   ]
  },
  {
   "cell_type": "code",
   "execution_count": 420,
   "metadata": {
    "colab": {
     "base_uri": "https://localhost:8080/"
    },
    "execution": {
     "iopub.execute_input": "2021-11-03T03:33:32.213065Z",
     "iopub.status.busy": "2021-11-03T03:33:32.212148Z",
     "iopub.status.idle": "2021-11-03T03:33:32.226935Z",
     "shell.execute_reply": "2021-11-03T03:33:32.227655Z"
    },
    "executionInfo": {
     "elapsed": 59,
     "status": "ok",
     "timestamp": 1647496688046,
     "user": {
      "displayName": "Hyung-jeong Yang",
      "photoUrl": "https://lh3.googleusercontent.com/a/default-user=s64",
      "userId": "02381304708881262053"
     },
     "user_tz": -540
    },
    "id": "pHB4wwqmBTFL",
    "outputId": "d0866edd-9f7e-4167-e6ee-395d8cdf1319"
   },
   "outputs": [
    {
     "data": {
      "text/plain": [
       "68628.19819848923"
      ]
     },
     "execution_count": 420,
     "metadata": {},
     "output_type": "execute_result"
    }
   ],
   "source": [
    "# 선형회귀의 RMSE 평가\n",
    "\n",
    "\n",
    "from sklearn.metrics import mean_squared_error\n",
    "\n",
    "p182591_predictions = lin_reg.predict(p182591_prepared)\n",
    "lin_mse = mean_squared_error(p182591_labels, p182591_predictions)\n",
    "lin_rmse = np.sqrt(lin_mse)\n",
    "lin_rmse\n",
    "\n",
    "# 중간 주택 가격이 $120,000에서 $265,000 사이 분포\n",
    "# 예측 오차 68627 : 좋은결과??? -> 과소적합\n",
    "# 문제점 : 특성들이 좋은 정보를 제공하기 못했거나 모델이 강력하지 못하다\n",
    "# 해결 : 좋은 특성 주입(찾거나 생성), 모델의 규제 감소\n",
    "# 선형모델에서는 규제 감소 여지가 없음\n",
    "# 특성 추가 ( 인구의 로그스케일)\n",
    "# 다른 모델 시도\n"
   ]
  },
  {
   "cell_type": "code",
   "execution_count": 421,
   "metadata": {
    "colab": {
     "base_uri": "https://localhost:8080/"
    },
    "execution": {
     "iopub.execute_input": "2021-11-03T03:33:32.236093Z",
     "iopub.status.busy": "2021-11-03T03:33:32.233382Z",
     "iopub.status.idle": "2021-11-03T03:33:32.240377Z",
     "shell.execute_reply": "2021-11-03T03:33:32.241118Z"
    },
    "executionInfo": {
     "elapsed": 53,
     "status": "ok",
     "timestamp": 1647496688047,
     "user": {
      "displayName": "Hyung-jeong Yang",
      "photoUrl": "https://lh3.googleusercontent.com/a/default-user=s64",
      "userId": "02381304708881262053"
     },
     "user_tz": -540
    },
    "id": "UClel0ZXBTFL",
    "outputId": "cf46ffb8-2646-455d-c04e-6a8332b8ef8d"
   },
   "outputs": [
    {
     "data": {
      "text/plain": [
       "49439.89599001897"
      ]
     },
     "execution_count": 421,
     "metadata": {},
     "output_type": "execute_result"
    }
   ],
   "source": [
    "# MAE 계산해 보기 \n",
    "\n",
    "from sklearn.metrics import mean_absolute_error\n",
    "\n",
    "lin_mae = mean_absolute_error(p182591_labels, p182591_predictions)\n",
    "lin_mae"
   ]
  },
  {
   "cell_type": "markdown",
   "metadata": {},
   "source": [
    "## 결정트리 적용"
   ]
  },
  {
   "cell_type": "code",
   "execution_count": 422,
   "metadata": {
    "colab": {
     "base_uri": "https://localhost:8080/"
    },
    "execution": {
     "iopub.execute_input": "2021-11-03T03:33:32.247772Z",
     "iopub.status.busy": "2021-11-03T03:33:32.246724Z",
     "iopub.status.idle": "2021-11-03T03:33:32.579845Z",
     "shell.execute_reply": "2021-11-03T03:33:32.579251Z"
    },
    "executionInfo": {
     "elapsed": 932,
     "status": "ok",
     "timestamp": 1647496688930,
     "user": {
      "displayName": "Hyung-jeong Yang",
      "photoUrl": "https://lh3.googleusercontent.com/a/default-user=s64",
      "userId": "02381304708881262053"
     },
     "user_tz": -540
    },
    "id": "s4s-AIARBTFM",
    "outputId": "30854c86-7f4f-437e-8a9f-9b0c3d1180d3"
   },
   "outputs": [
    {
     "data": {
      "text/plain": [
       "DecisionTreeRegressor(criterion='mse', max_depth=None, max_features=None,\n",
       "                      max_leaf_nodes=None, min_impurity_decrease=0.0,\n",
       "                      min_impurity_split=None, min_samples_leaf=1,\n",
       "                      min_samples_split=2, min_weight_fraction_leaf=0.0,\n",
       "                      presort=False, random_state=42, splitter='best')"
      ]
     },
     "execution_count": 422,
     "metadata": {},
     "output_type": "execute_result"
    }
   ],
   "source": [
    "# 결정트리 적용하기 \n",
    "\n",
    "from sklearn.tree import DecisionTreeRegressor\n",
    "\n",
    "tree_reg = DecisionTreeRegressor(random_state=42)\n",
    "tree_reg.fit(p182591_prepared, p182591_labels)"
   ]
  },
  {
   "cell_type": "code",
   "execution_count": 423,
   "metadata": {
    "colab": {
     "base_uri": "https://localhost:8080/"
    },
    "execution": {
     "iopub.execute_input": "2021-11-03T03:33:32.584326Z",
     "iopub.status.busy": "2021-11-03T03:33:32.583709Z",
     "iopub.status.idle": "2021-11-03T03:33:32.594994Z",
     "shell.execute_reply": "2021-11-03T03:33:32.594476Z"
    },
    "executionInfo": {
     "elapsed": 10,
     "status": "ok",
     "timestamp": 1647496688931,
     "user": {
      "displayName": "Hyung-jeong Yang",
      "photoUrl": "https://lh3.googleusercontent.com/a/default-user=s64",
      "userId": "02381304708881262053"
     },
     "user_tz": -540
    },
    "id": "FFokfAOqBTFM",
    "outputId": "d32c0601-44f7-46e0-c1f1-6bbfd88798a9"
   },
   "outputs": [
    {
     "data": {
      "text/plain": [
       "0.0"
      ]
     },
     "execution_count": 423,
     "metadata": {},
     "output_type": "execute_result"
    }
   ],
   "source": [
    "#결정트리의 rmse 계산하기\n",
    "p182591_predictions = tree_reg.predict(p182591_prepared)\n",
    "tree_mse = mean_squared_error(p182591_labels, p182591_predictions)\n",
    "tree_rmse = np.sqrt(tree_mse)\n",
    "tree_rmse\n",
    "\n",
    "# 오차가 0\n",
    "# 훈련데이터에 과적합됐음을 확인\n",
    "#다른 모델을 사용하거나 교차검증 필요"
   ]
  },
  {
   "cell_type": "markdown",
   "metadata": {},
   "source": [
    "## 랜덤포레스트 적용"
   ]
  },
  {
   "cell_type": "code",
   "execution_count": 424,
   "metadata": {},
   "outputs": [
    {
     "data": {
      "text/plain": [
       "RandomForestRegressor(bootstrap=True, criterion='mse', max_depth=None,\n",
       "                      max_features='auto', max_leaf_nodes=None,\n",
       "                      min_impurity_decrease=0.0, min_impurity_split=None,\n",
       "                      min_samples_leaf=1, min_samples_split=2,\n",
       "                      min_weight_fraction_leaf=0.0, n_estimators=100,\n",
       "                      n_jobs=None, oob_score=False, random_state=42, verbose=0,\n",
       "                      warm_start=False)"
      ]
     },
     "execution_count": 424,
     "metadata": {},
     "output_type": "execute_result"
    }
   ],
   "source": [
    "# 랜덤포레스트모델 적용\n",
    "# 트리 100개 생성\n",
    "\n",
    "from sklearn.ensemble import RandomForestRegressor\n",
    "\n",
    "forest_reg = RandomForestRegressor(n_estimators=100, random_state=42)\n",
    "forest_reg.fit(p182591_prepared, p182591_labels)"
   ]
  },
  {
   "cell_type": "code",
   "execution_count": 425,
   "metadata": {
    "scrolled": true
   },
   "outputs": [
    {
     "data": {
      "text/plain": [
       "18603.515021376355"
      ]
     },
     "execution_count": 425,
     "metadata": {},
     "output_type": "execute_result"
    }
   ],
   "source": [
    "#랜덤포레스트 RMSE 계산\n",
    "\n",
    "p182591_predictions = forest_reg.predict(p182591_prepared)\n",
    "forest_mse = mean_squared_error(p182591_labels, p182591_predictions)\n",
    "forest_rmse = np.sqrt(forest_mse)\n",
    "forest_rmse"
   ]
  },
  {
   "cell_type": "markdown",
   "metadata": {},
   "source": [
    "# 교차검증"
   ]
  },
  {
   "cell_type": "markdown",
   "metadata": {},
   "source": [
    "## 결정트리 교차검증"
   ]
  },
  {
   "cell_type": "code",
   "execution_count": 426,
   "metadata": {
    "execution": {
     "iopub.execute_input": "2021-11-03T03:33:32.599985Z",
     "iopub.status.busy": "2021-11-03T03:33:32.599343Z",
     "iopub.status.idle": "2021-11-03T03:33:35.262426Z",
     "shell.execute_reply": "2021-11-03T03:33:35.262873Z"
    },
    "executionInfo": {
     "elapsed": 1715,
     "status": "ok",
     "timestamp": 1647496690642,
     "user": {
      "displayName": "Hyung-jeong Yang",
      "photoUrl": "https://lh3.googleusercontent.com/a/default-user=s64",
      "userId": "02381304708881262053"
     },
     "user_tz": -540
    },
    "id": "0iMvYWAuBTFM"
   },
   "outputs": [],
   "source": [
    "# 적용했던 모델을 교차검증하기\n",
    "# cv=10으로 10번의 평가, 매번 다른 1개를 평가, 나머지 9개를 훈련\n",
    "# 결정트리 교차검증 cv=10 \n",
    "\n",
    "from sklearn.model_selection import cross_val_score\n",
    "\n",
    "scores = cross_val_score(tree_reg, p182591_prepared, p182591_labels,\n",
    "                         scoring=\"neg_mean_squared_error\", cv=10)\n",
    "tree_rmse_scores = np.sqrt(-scores)\n",
    "\n",
    "# 교차검증에서 scoring을 효용함수(클수록 좋은값)로 계산해서 neg_mean_squared_error\n",
    "# np.sqrt(-scores)"
   ]
  },
  {
   "cell_type": "code",
   "execution_count": 427,
   "metadata": {
    "colab": {
     "base_uri": "https://localhost:8080/"
    },
    "execution": {
     "iopub.execute_input": "2021-11-03T03:33:35.268947Z",
     "iopub.status.busy": "2021-11-03T03:33:35.268321Z",
     "iopub.status.idle": "2021-11-03T03:33:35.272864Z",
     "shell.execute_reply": "2021-11-03T03:33:35.272349Z"
    },
    "executionInfo": {
     "elapsed": 9,
     "status": "ok",
     "timestamp": 1647496690644,
     "user": {
      "displayName": "Hyung-jeong Yang",
      "photoUrl": "https://lh3.googleusercontent.com/a/default-user=s64",
      "userId": "02381304708881262053"
     },
     "user_tz": -540
    },
    "id": "oLGZ9BE6BTFM",
    "outputId": "a1b87ac1-2648-462c-8be3-ae43546ca918"
   },
   "outputs": [
    {
     "name": "stdout",
     "output_type": "stream",
     "text": [
      "점수: [70194.33680785 66855.16363941 72432.58244769 70758.73896782\n",
      " 71115.88230639 75585.14172901 70262.86139133 70273.6325285\n",
      " 75366.87952553 71231.65726027]\n",
      "평균: 71407.68766037929\n",
      "표준 편차: 2439.4345041191004\n"
     ]
    }
   ],
   "source": [
    "def display_scores(scores):\n",
    "    print(\"점수:\", scores)\n",
    "    print(\"평균:\", scores.mean())\n",
    "    print(\"표준 편차:\", scores.std())\n",
    "\n",
    "display_scores(tree_rmse_scores)\n",
    "\n",
    "# 교차검증전 오차보다 늘어났음을 확인\n",
    "# 각 훈련의 평균과 표준편차를 통해 모델의 성능과 추정이 얼마나 정확한지 측정\n",
    "# 반복된 훈련으로 훈련 비용이 비싸다"
   ]
  },
  {
   "cell_type": "markdown",
   "metadata": {},
   "source": [
    "## 선형회귀 교차검증"
   ]
  },
  {
   "cell_type": "code",
   "execution_count": 428,
   "metadata": {
    "colab": {
     "base_uri": "https://localhost:8080/"
    },
    "execution": {
     "iopub.execute_input": "2021-11-03T03:33:35.279526Z",
     "iopub.status.busy": "2021-11-03T03:33:35.278577Z",
     "iopub.status.idle": "2021-11-03T03:33:35.484527Z",
     "shell.execute_reply": "2021-11-03T03:33:35.485571Z"
    },
    "executionInfo": {
     "elapsed": 453,
     "status": "ok",
     "timestamp": 1647496691091,
     "user": {
      "displayName": "Hyung-jeong Yang",
      "photoUrl": "https://lh3.googleusercontent.com/a/default-user=s64",
      "userId": "02381304708881262053"
     },
     "user_tz": -540
    },
    "id": "TU0D3TAKBTFM",
    "outputId": "34d3ad7f-9232-4fbb-ac29-7377d9cbf6ae"
   },
   "outputs": [
    {
     "name": "stdout",
     "output_type": "stream",
     "text": [
      "점수: [66782.73843989 66960.118071   70347.95244419 74739.57052552\n",
      " 68031.13388938 71193.84183426 64969.63056405 68281.61137997\n",
      " 71552.91566558 67665.10082067]\n",
      "평균: 69052.46136345083\n",
      "표준 편차: 2731.674001798349\n"
     ]
    }
   ],
   "source": [
    "# 선형회귀 교차검증 cv=10\n",
    "\n",
    "lin_scores = cross_val_score(lin_reg, p182591_prepared, p182591_labels,\n",
    "                             scoring=\"neg_mean_squared_error\", cv=10)\n",
    "lin_rmse_scores = np.sqrt(-lin_scores)\n",
    "display_scores(lin_rmse_scores)\n",
    "\n",
    "#대체로 비슷한 점수를 보임을 확인"
   ]
  },
  {
   "cell_type": "markdown",
   "metadata": {},
   "source": [
    "## 랜덤포레스트 교차검증"
   ]
  },
  {
   "cell_type": "code",
   "execution_count": 429,
   "metadata": {
    "colab": {
     "base_uri": "https://localhost:8080/"
    },
    "execution": {
     "iopub.execute_input": "2021-11-03T03:33:52.616572Z",
     "iopub.status.busy": "2021-11-03T03:33:52.615741Z",
     "iopub.status.idle": "2021-11-03T03:36:17.983159Z",
     "shell.execute_reply": "2021-11-03T03:36:17.983604Z"
    },
    "executionInfo": {
     "elapsed": 148585,
     "status": "ok",
     "timestamp": 1647496856751,
     "user": {
      "displayName": "Hyung-jeong Yang",
      "photoUrl": "https://lh3.googleusercontent.com/a/default-user=s64",
      "userId": "02381304708881262053"
     },
     "user_tz": -540
    },
    "id": "qMZtZL5IBTFN",
    "outputId": "346bc316-40d3-4239-f85a-57b59a99d2a4"
   },
   "outputs": [
    {
     "name": "stdout",
     "output_type": "stream",
     "text": [
      "점수: [49519.80364233 47461.9115823  50029.02762854 52325.28068953\n",
      " 49308.39426421 53446.37892622 48634.8036574  47585.73832311\n",
      " 53490.10699751 50021.5852922 ]\n",
      "평균: 50182.303100336096\n",
      "표준 편차: 2097.0810550985693\n"
     ]
    }
   ],
   "source": [
    "# 랜덤포레스트 교차검증 cv =10 \n",
    "\n",
    "from sklearn.model_selection import cross_val_score\n",
    "\n",
    "forest_scores = cross_val_score(forest_reg, p182591_prepared, p182591_labels,\n",
    "                                scoring=\"neg_mean_squared_error\", cv=10)\n",
    "forest_rmse_scores = np.sqrt(-forest_scores)\n",
    "display_scores(forest_rmse_scores)\n",
    "\n",
    "#다른 모델보다 점수가 낮음을 확인"
   ]
  },
  {
   "cell_type": "code",
   "execution_count": 430,
   "metadata": {
    "colab": {
     "base_uri": "https://localhost:8080/"
    },
    "execution": {
     "iopub.execute_input": "2021-11-03T03:36:17.988661Z",
     "iopub.status.busy": "2021-11-03T03:36:17.987996Z",
     "iopub.status.idle": "2021-11-03T03:36:18.200577Z",
     "shell.execute_reply": "2021-11-03T03:36:18.201704Z"
    },
    "executionInfo": {
     "elapsed": 10,
     "status": "ok",
     "timestamp": 1647496856752,
     "user": {
      "displayName": "Hyung-jeong Yang",
      "photoUrl": "https://lh3.googleusercontent.com/a/default-user=s64",
      "userId": "02381304708881262053"
     },
     "user_tz": -540
    },
    "id": "aJKAcslTBTFN",
    "outputId": "eeb6c291-4208-426b-ddc6-a01f29ca496e"
   },
   "outputs": [
    {
     "data": {
      "text/plain": [
       "count       10.000000\n",
       "mean     69052.461363\n",
       "std       2879.437224\n",
       "min      64969.630564\n",
       "25%      67136.363758\n",
       "50%      68156.372635\n",
       "75%      70982.369487\n",
       "max      74739.570526\n",
       "dtype: float64"
      ]
     },
     "execution_count": 430,
     "metadata": {},
     "output_type": "execute_result"
    }
   ],
   "source": [
    "# 선형회귀 결과 describe()로 살펴보기\n",
    "\n",
    "scores = cross_val_score(lin_reg, p182591_prepared,p182591_labels, scoring=\"neg_mean_squared_error\", cv=10)\n",
    "pd.Series(np.sqrt(-scores)).describe()"
   ]
  },
  {
   "cell_type": "code",
   "execution_count": 431,
   "metadata": {
    "colab": {
     "base_uri": "https://localhost:8080/"
    },
    "executionInfo": {
     "elapsed": 149196,
     "status": "ok",
     "timestamp": 1647497005943,
     "user": {
      "displayName": "Hyung-jeong Yang",
      "photoUrl": "https://lh3.googleusercontent.com/a/default-user=s64",
      "userId": "02381304708881262053"
     },
     "user_tz": -540
    },
    "id": "7mbHoMEGWYdl",
    "outputId": "0e67ee3f-878f-4d18-f8f1-ef3b8c13b08e"
   },
   "outputs": [
    {
     "data": {
      "text/plain": [
       "count       10.000000\n",
       "mean     50182.303100\n",
       "std       2210.517524\n",
       "min      47461.911582\n",
       "25%      48803.201309\n",
       "50%      49770.694467\n",
       "75%      51751.217424\n",
       "max      53490.106998\n",
       "dtype: float64"
      ]
     },
     "execution_count": 431,
     "metadata": {},
     "output_type": "execute_result"
    }
   ],
   "source": [
    "#랜덤포레스트 결과 describe()로 살펴보기\n",
    "\n",
    "scores = cross_val_score(forest_reg, p182591_prepared, p182591_labels, scoring=\"neg_mean_squared_error\", cv=10)\n",
    "pd.Series(np.sqrt(-scores)).describe()"
   ]
  },
  {
   "cell_type": "code",
   "execution_count": 432,
   "metadata": {
    "colab": {
     "base_uri": "https://localhost:8080/"
    },
    "executionInfo": {
     "elapsed": 14,
     "status": "ok",
     "timestamp": 1647497209544,
     "user": {
      "displayName": "Hyung-jeong Yang",
      "photoUrl": "https://lh3.googleusercontent.com/a/default-user=s64",
      "userId": "02381304708881262053"
     },
     "user_tz": -540
    },
    "id": "DP0kqw2XgQId",
    "outputId": "7cb0193b-6f01-4d3a-e73e-0ea5086e3e64"
   },
   "outputs": [
    {
     "name": "stdout",
     "output_type": "stream",
     "text": [
      "선형회귀: 69052.46136345083\n",
      "결정트리: 71407.68766037929\n",
      "랜덤포레스트: 50182.303100336096\n"
     ]
    }
   ],
   "source": [
    "# 각 모델별 RMSE 출력\n",
    "\n",
    "print(\"선형회귀:\", lin_rmse_scores.mean())\n",
    "print(\"결정트리:\", tree_rmse_scores.mean())\n",
    "print(\"랜덤포레스트:\", forest_rmse_scores.mean())"
   ]
  },
  {
   "cell_type": "markdown",
   "metadata": {
    "id": "Vc2bwoaEBTFN"
   },
   "source": [
    "## 그리드 서치 적용하기"
   ]
  },
  {
   "cell_type": "code",
   "execution_count": 433,
   "metadata": {
    "colab": {
     "base_uri": "https://localhost:8080/"
    },
    "execution": {
     "iopub.execute_input": "2021-11-03T03:36:35.415030Z",
     "iopub.status.busy": "2021-11-03T03:36:35.414249Z",
     "iopub.status.idle": "2021-11-03T03:37:29.778818Z",
     "shell.execute_reply": "2021-11-03T03:37:29.779278Z"
    },
    "executionInfo": {
     "elapsed": 57220,
     "status": "ok",
     "timestamp": 1647497266751,
     "user": {
      "displayName": "Hyung-jeong Yang",
      "photoUrl": "https://lh3.googleusercontent.com/a/default-user=s64",
      "userId": "02381304708881262053"
     },
     "user_tz": -540
    },
    "id": "Rh15Gb2fBTFN",
    "outputId": "24304c46-1893-4902-a70d-f8224cc9e440"
   },
   "outputs": [
    {
     "data": {
      "text/plain": [
       "GridSearchCV(cv=5, error_score='raise-deprecating',\n",
       "             estimator=RandomForestRegressor(bootstrap=True, criterion='mse',\n",
       "                                             max_depth=None,\n",
       "                                             max_features='auto',\n",
       "                                             max_leaf_nodes=None,\n",
       "                                             min_impurity_decrease=0.0,\n",
       "                                             min_impurity_split=None,\n",
       "                                             min_samples_leaf=1,\n",
       "                                             min_samples_split=2,\n",
       "                                             min_weight_fraction_leaf=0.0,\n",
       "                                             n_estimators='warn', n_jobs=None,\n",
       "                                             oob_score=False, random_state=42,\n",
       "                                             verbose=0, warm_start=False),\n",
       "             iid='warn', n_jobs=None,\n",
       "             param_grid=[{'max_features': [2, 4, 6, 8],\n",
       "                          'n_estimators': [3, 10, 30]},\n",
       "                         {'bootstrap': [False], 'max_features': [2, 3, 4],\n",
       "                          'n_estimators': [3, 10]}],\n",
       "             pre_dispatch='2*n_jobs', refit=True, return_train_score=True,\n",
       "             scoring='neg_mean_squared_error', verbose=0)"
      ]
     },
     "execution_count": 433,
     "metadata": {},
     "output_type": "execute_result"
    }
   ],
   "source": [
    "from sklearn.model_selection import GridSearchCV\n",
    "\n",
    "param_grid = [\n",
    "    # 12(=3×4)개의 하이퍼파라미터 조합을 시도\n",
    "    {'n_estimators': [3, 10, 30], 'max_features': [2, 4, 6, 8]},\n",
    "    # bootstrap은 False로 하고 6(=2×3)개의 조합을 시도\n",
    "    {'bootstrap': [False], 'n_estimators': [3, 10], 'max_features': [2, 3, 4]},\n",
    "  ]\n",
    "\n",
    "# n_estimators : 결정트리 갯수\n",
    "# max_features : feature 수\n",
    "\n",
    "#  {'n_estimators': [3, 10, 30], 'max_features': [2, 4, 6, 8]} : 딕셔너리\n",
    "# 3 일때 2,4,6,8 조합 실행\n",
    "\n",
    "# 총 12+6 = 18번의 조합 탐색. \n",
    "\n",
    "\n",
    "# 랜덤포레스트로 그리드탐색\n",
    "\n",
    "forest_reg = RandomForestRegressor(random_state=42)\n",
    "\n",
    "# cv=5로 다섯 개의 폴드로 훈련하여 총 18x5=90번의 훈련.\n",
    "\n",
    "grid_search = GridSearchCV(forest_reg, param_grid, cv=5,\n",
    "                           scoring='neg_mean_squared_error',\n",
    "                           return_train_score=True)\n",
    "grid_search.fit(p182591_prepared, p182591_labels)"
   ]
  },
  {
   "cell_type": "code",
   "execution_count": 434,
   "metadata": {
    "colab": {
     "base_uri": "https://localhost:8080/"
    },
    "execution": {
     "iopub.execute_input": "2021-11-03T03:37:29.782174Z",
     "iopub.status.busy": "2021-11-03T03:37:29.781584Z",
     "iopub.status.idle": "2021-11-03T03:37:29.785108Z",
     "shell.execute_reply": "2021-11-03T03:37:29.785584Z"
    },
    "executionInfo": {
     "elapsed": 33,
     "status": "ok",
     "timestamp": 1647497266753,
     "user": {
      "displayName": "Hyung-jeong Yang",
      "photoUrl": "https://lh3.googleusercontent.com/a/default-user=s64",
      "userId": "02381304708881262053"
     },
     "user_tz": -540
    },
    "id": "GEGrdeF_BTFO",
    "outputId": "b48d1cbe-6430-4d65-b6b7-bb55344ffe7b"
   },
   "outputs": [
    {
     "data": {
      "text/plain": [
       "{'max_features': 8, 'n_estimators': 30}"
      ]
     },
     "execution_count": 434,
     "metadata": {},
     "output_type": "execute_result"
    }
   ],
   "source": [
    "#최상의 조합보기\n",
    "grid_search.best_params_"
   ]
  },
  {
   "cell_type": "code",
   "execution_count": 435,
   "metadata": {
    "colab": {
     "base_uri": "https://localhost:8080/"
    },
    "execution": {
     "iopub.execute_input": "2021-11-03T03:37:29.789607Z",
     "iopub.status.busy": "2021-11-03T03:37:29.788026Z",
     "iopub.status.idle": "2021-11-03T03:37:29.791938Z",
     "shell.execute_reply": "2021-11-03T03:37:29.792328Z"
    },
    "executionInfo": {
     "elapsed": 33,
     "status": "ok",
     "timestamp": 1647497266755,
     "user": {
      "displayName": "Hyung-jeong Yang",
      "photoUrl": "https://lh3.googleusercontent.com/a/default-user=s64",
      "userId": "02381304708881262053"
     },
     "user_tz": -540
    },
    "id": "n8GVybXVBTFO",
    "outputId": "c4f613ab-52da-4733-b395-e7f2f84f7af9"
   },
   "outputs": [
    {
     "data": {
      "text/plain": [
       "RandomForestRegressor(bootstrap=True, criterion='mse', max_depth=None,\n",
       "                      max_features=8, max_leaf_nodes=None,\n",
       "                      min_impurity_decrease=0.0, min_impurity_split=None,\n",
       "                      min_samples_leaf=1, min_samples_split=2,\n",
       "                      min_weight_fraction_leaf=0.0, n_estimators=30,\n",
       "                      n_jobs=None, oob_score=False, random_state=42, verbose=0,\n",
       "                      warm_start=False)"
      ]
     },
     "execution_count": 435,
     "metadata": {},
     "output_type": "execute_result"
    }
   ],
   "source": [
    "#최적의 추정기 확인하기\n",
    "grid_search.best_estimator_"
   ]
  },
  {
   "cell_type": "code",
   "execution_count": 436,
   "metadata": {
    "colab": {
     "base_uri": "https://localhost:8080/"
    },
    "executionInfo": {
     "elapsed": 31,
     "status": "ok",
     "timestamp": 1647497266756,
     "user": {
      "displayName": "Hyung-jeong Yang",
      "photoUrl": "https://lh3.googleusercontent.com/a/default-user=s64",
      "userId": "02381304708881262053"
     },
     "user_tz": -540
    },
    "id": "71Fkf07knKZr",
    "outputId": "e0e94182-82f1-41b9-a6f5-bee2ef32c72b"
   },
   "outputs": [
    {
     "data": {
      "text/plain": [
       "[{'max_features': 2, 'n_estimators': 3},\n",
       " {'max_features': 2, 'n_estimators': 10},\n",
       " {'max_features': 2, 'n_estimators': 30},\n",
       " {'max_features': 4, 'n_estimators': 3},\n",
       " {'max_features': 4, 'n_estimators': 10},\n",
       " {'max_features': 4, 'n_estimators': 30},\n",
       " {'max_features': 6, 'n_estimators': 3},\n",
       " {'max_features': 6, 'n_estimators': 10},\n",
       " {'max_features': 6, 'n_estimators': 30},\n",
       " {'max_features': 8, 'n_estimators': 3},\n",
       " {'max_features': 8, 'n_estimators': 10},\n",
       " {'max_features': 8, 'n_estimators': 30},\n",
       " {'bootstrap': False, 'max_features': 2, 'n_estimators': 3},\n",
       " {'bootstrap': False, 'max_features': 2, 'n_estimators': 10},\n",
       " {'bootstrap': False, 'max_features': 3, 'n_estimators': 3},\n",
       " {'bootstrap': False, 'max_features': 3, 'n_estimators': 10},\n",
       " {'bootstrap': False, 'max_features': 4, 'n_estimators': 3},\n",
       " {'bootstrap': False, 'max_features': 4, 'n_estimators': 10}]"
      ]
     },
     "execution_count": 436,
     "metadata": {},
     "output_type": "execute_result"
    }
   ],
   "source": [
    "# 파라미터 살펴보기\n",
    "grid_search.cv_results_[\"params\"]"
   ]
  },
  {
   "cell_type": "code",
   "execution_count": 437,
   "metadata": {
    "colab": {
     "base_uri": "https://localhost:8080/"
    },
    "executionInfo": {
     "elapsed": 28,
     "status": "ok",
     "timestamp": 1647497266756,
     "user": {
      "displayName": "Hyung-jeong Yang",
      "photoUrl": "https://lh3.googleusercontent.com/a/default-user=s64",
      "userId": "02381304708881262053"
     },
     "user_tz": -540
    },
    "id": "c9DH0H5-nnal",
    "outputId": "c88fc387-7fe9-4867-83dd-a058d9126ae0"
   },
   "outputs": [
    {
     "name": "stdout",
     "output_type": "stream",
     "text": [
      "[63669.05791727 55627.16171305 53384.57867637 60965.9918593\n",
      " 52740.98248529 50377.34440959 58663.84733372 52006.15355974\n",
      " 50146.46596416 57869.25504028 51711.09443661 49682.25345942\n",
      " 62895.08888991 54658.1448439  59470.39959473 52725.01091081\n",
      " 57490.61295607 51009.51445842]\n"
     ]
    }
   ],
   "source": [
    "# 스코어살펴보기\n",
    "score=grid_search.cv_results_[\"mean_test_score\"]\n",
    "print(np.sqrt(-score))"
   ]
  },
  {
   "cell_type": "code",
   "execution_count": 438,
   "metadata": {
    "colab": {
     "base_uri": "https://localhost:8080/"
    },
    "execution": {
     "iopub.execute_input": "2021-11-03T03:37:29.796640Z",
     "iopub.status.busy": "2021-11-03T03:37:29.796040Z",
     "iopub.status.idle": "2021-11-03T03:37:29.801724Z",
     "shell.execute_reply": "2021-11-03T03:37:29.802133Z"
    },
    "executionInfo": {
     "elapsed": 27,
     "status": "ok",
     "timestamp": 1647497266758,
     "user": {
      "displayName": "Hyung-jeong Yang",
      "photoUrl": "https://lh3.googleusercontent.com/a/default-user=s64",
      "userId": "02381304708881262053"
     },
     "user_tz": -540
    },
    "id": "0AiFVyg9BTFO",
    "outputId": "47f91039-da53-4da9-96e8-af8dd0568a18"
   },
   "outputs": [
    {
     "name": "stdout",
     "output_type": "stream",
     "text": [
      "63669.05791727153 {'max_features': 2, 'n_estimators': 3}\n",
      "55627.16171305252 {'max_features': 2, 'n_estimators': 10}\n",
      "53384.57867637289 {'max_features': 2, 'n_estimators': 30}\n",
      "60965.99185930139 {'max_features': 4, 'n_estimators': 3}\n",
      "52740.98248528835 {'max_features': 4, 'n_estimators': 10}\n",
      "50377.344409590376 {'max_features': 4, 'n_estimators': 30}\n",
      "58663.84733372485 {'max_features': 6, 'n_estimators': 3}\n",
      "52006.15355973719 {'max_features': 6, 'n_estimators': 10}\n",
      "50146.465964159885 {'max_features': 6, 'n_estimators': 30}\n",
      "57869.25504027614 {'max_features': 8, 'n_estimators': 3}\n",
      "51711.09443660957 {'max_features': 8, 'n_estimators': 10}\n",
      "49682.25345942335 {'max_features': 8, 'n_estimators': 30}\n",
      "62895.088889905004 {'bootstrap': False, 'max_features': 2, 'n_estimators': 3}\n",
      "54658.14484390074 {'bootstrap': False, 'max_features': 2, 'n_estimators': 10}\n",
      "59470.399594730654 {'bootstrap': False, 'max_features': 3, 'n_estimators': 3}\n",
      "52725.01091081235 {'bootstrap': False, 'max_features': 3, 'n_estimators': 10}\n",
      "57490.612956065226 {'bootstrap': False, 'max_features': 4, 'n_estimators': 3}\n",
      "51009.51445842374 {'bootstrap': False, 'max_features': 4, 'n_estimators': 10}\n"
     ]
    }
   ],
   "source": [
    "#파라미터별 RMSE확인 \n",
    "\n",
    "cvres = grid_search.cv_results_\n",
    "for mean_score, params in zip(cvres[\"mean_test_score\"], cvres[\"params\"]):\n",
    "    print(np.sqrt(-mean_score), params)\n",
    "\n",
    "#  max_features가 8, n_estimators 가 30 일때 RMSE가 49682로 가장 낮다. \n",
    "# 이전의 교차검증 보다 좋은 결과 탐색"
   ]
  },
  {
   "cell_type": "code",
   "execution_count": 439,
   "metadata": {
    "colab": {
     "base_uri": "https://localhost:8080/",
     "height": 1000
    },
    "execution": {
     "iopub.execute_input": "2021-11-03T03:37:29.835776Z",
     "iopub.status.busy": "2021-11-03T03:37:29.835124Z",
     "iopub.status.idle": "2021-11-03T03:37:29.849492Z",
     "shell.execute_reply": "2021-11-03T03:37:29.849936Z"
    },
    "executionInfo": {
     "elapsed": 24,
     "status": "ok",
     "timestamp": 1647497266758,
     "user": {
      "displayName": "Hyung-jeong Yang",
      "photoUrl": "https://lh3.googleusercontent.com/a/default-user=s64",
      "userId": "02381304708881262053"
     },
     "user_tz": -540
    },
    "id": "V2aqXyKHBTFO",
    "outputId": "63905dfd-d29c-4aad-e43c-a29e2dc1ea84"
   },
   "outputs": [
    {
     "data": {
      "text/html": [
       "<div>\n",
       "<style scoped>\n",
       "    .dataframe tbody tr th:only-of-type {\n",
       "        vertical-align: middle;\n",
       "    }\n",
       "\n",
       "    .dataframe tbody tr th {\n",
       "        vertical-align: top;\n",
       "    }\n",
       "\n",
       "    .dataframe thead th {\n",
       "        text-align: right;\n",
       "    }\n",
       "</style>\n",
       "<table border=\"1\" class=\"dataframe\">\n",
       "  <thead>\n",
       "    <tr style=\"text-align: right;\">\n",
       "      <th></th>\n",
       "      <th>mean_fit_time</th>\n",
       "      <th>std_fit_time</th>\n",
       "      <th>mean_score_time</th>\n",
       "      <th>std_score_time</th>\n",
       "      <th>param_max_features</th>\n",
       "      <th>param_n_estimators</th>\n",
       "      <th>param_bootstrap</th>\n",
       "      <th>params</th>\n",
       "      <th>split0_test_score</th>\n",
       "      <th>split1_test_score</th>\n",
       "      <th>...</th>\n",
       "      <th>mean_test_score</th>\n",
       "      <th>std_test_score</th>\n",
       "      <th>rank_test_score</th>\n",
       "      <th>split0_train_score</th>\n",
       "      <th>split1_train_score</th>\n",
       "      <th>split2_train_score</th>\n",
       "      <th>split3_train_score</th>\n",
       "      <th>split4_train_score</th>\n",
       "      <th>mean_train_score</th>\n",
       "      <th>std_train_score</th>\n",
       "    </tr>\n",
       "  </thead>\n",
       "  <tbody>\n",
       "    <tr>\n",
       "      <th>0</th>\n",
       "      <td>0.111528</td>\n",
       "      <td>0.016180</td>\n",
       "      <td>0.005775</td>\n",
       "      <td>0.001154</td>\n",
       "      <td>2</td>\n",
       "      <td>3</td>\n",
       "      <td>NaN</td>\n",
       "      <td>{'max_features': 2, 'n_estimators': 3}</td>\n",
       "      <td>-3.837622e+09</td>\n",
       "      <td>-4.147108e+09</td>\n",
       "      <td>...</td>\n",
       "      <td>-4.053749e+09</td>\n",
       "      <td>1.519609e+08</td>\n",
       "      <td>18</td>\n",
       "      <td>-1.064113e+09</td>\n",
       "      <td>-1.105142e+09</td>\n",
       "      <td>-1.116550e+09</td>\n",
       "      <td>-1.112342e+09</td>\n",
       "      <td>-1.129650e+09</td>\n",
       "      <td>-1.105559e+09</td>\n",
       "      <td>2.220402e+07</td>\n",
       "    </tr>\n",
       "    <tr>\n",
       "      <th>1</th>\n",
       "      <td>0.349272</td>\n",
       "      <td>0.027757</td>\n",
       "      <td>0.015780</td>\n",
       "      <td>0.004720</td>\n",
       "      <td>2</td>\n",
       "      <td>10</td>\n",
       "      <td>NaN</td>\n",
       "      <td>{'max_features': 2, 'n_estimators': 10}</td>\n",
       "      <td>-3.047771e+09</td>\n",
       "      <td>-3.254861e+09</td>\n",
       "      <td>...</td>\n",
       "      <td>-3.094381e+09</td>\n",
       "      <td>1.327046e+08</td>\n",
       "      <td>11</td>\n",
       "      <td>-5.927175e+08</td>\n",
       "      <td>-5.870952e+08</td>\n",
       "      <td>-5.776964e+08</td>\n",
       "      <td>-5.716332e+08</td>\n",
       "      <td>-5.802501e+08</td>\n",
       "      <td>-5.818785e+08</td>\n",
       "      <td>7.345821e+06</td>\n",
       "    </tr>\n",
       "    <tr>\n",
       "      <th>2</th>\n",
       "      <td>1.035448</td>\n",
       "      <td>0.120586</td>\n",
       "      <td>0.040075</td>\n",
       "      <td>0.005592</td>\n",
       "      <td>2</td>\n",
       "      <td>30</td>\n",
       "      <td>NaN</td>\n",
       "      <td>{'max_features': 2, 'n_estimators': 30}</td>\n",
       "      <td>-2.689185e+09</td>\n",
       "      <td>-3.021086e+09</td>\n",
       "      <td>...</td>\n",
       "      <td>-2.849913e+09</td>\n",
       "      <td>1.626879e+08</td>\n",
       "      <td>9</td>\n",
       "      <td>-4.381089e+08</td>\n",
       "      <td>-4.391272e+08</td>\n",
       "      <td>-4.371702e+08</td>\n",
       "      <td>-4.376955e+08</td>\n",
       "      <td>-4.452654e+08</td>\n",
       "      <td>-4.394734e+08</td>\n",
       "      <td>2.966320e+06</td>\n",
       "    </tr>\n",
       "    <tr>\n",
       "      <th>3</th>\n",
       "      <td>0.164208</td>\n",
       "      <td>0.027272</td>\n",
       "      <td>0.005333</td>\n",
       "      <td>0.001310</td>\n",
       "      <td>4</td>\n",
       "      <td>3</td>\n",
       "      <td>NaN</td>\n",
       "      <td>{'max_features': 4, 'n_estimators': 3}</td>\n",
       "      <td>-3.730181e+09</td>\n",
       "      <td>-3.786886e+09</td>\n",
       "      <td>...</td>\n",
       "      <td>-3.716852e+09</td>\n",
       "      <td>1.631421e+08</td>\n",
       "      <td>16</td>\n",
       "      <td>-9.865163e+08</td>\n",
       "      <td>-1.012565e+09</td>\n",
       "      <td>-9.169425e+08</td>\n",
       "      <td>-1.037400e+09</td>\n",
       "      <td>-9.707739e+08</td>\n",
       "      <td>-9.848396e+08</td>\n",
       "      <td>4.084607e+07</td>\n",
       "    </tr>\n",
       "    <tr>\n",
       "      <th>4</th>\n",
       "      <td>0.562393</td>\n",
       "      <td>0.058881</td>\n",
       "      <td>0.016179</td>\n",
       "      <td>0.003933</td>\n",
       "      <td>4</td>\n",
       "      <td>10</td>\n",
       "      <td>NaN</td>\n",
       "      <td>{'max_features': 4, 'n_estimators': 10}</td>\n",
       "      <td>-2.666283e+09</td>\n",
       "      <td>-2.784511e+09</td>\n",
       "      <td>...</td>\n",
       "      <td>-2.781611e+09</td>\n",
       "      <td>1.268562e+08</td>\n",
       "      <td>8</td>\n",
       "      <td>-5.097115e+08</td>\n",
       "      <td>-5.162820e+08</td>\n",
       "      <td>-4.962893e+08</td>\n",
       "      <td>-5.436192e+08</td>\n",
       "      <td>-5.160297e+08</td>\n",
       "      <td>-5.163863e+08</td>\n",
       "      <td>1.542862e+07</td>\n",
       "    </tr>\n",
       "    <tr>\n",
       "      <th>5</th>\n",
       "      <td>1.705204</td>\n",
       "      <td>0.131183</td>\n",
       "      <td>0.037301</td>\n",
       "      <td>0.005921</td>\n",
       "      <td>4</td>\n",
       "      <td>30</td>\n",
       "      <td>NaN</td>\n",
       "      <td>{'max_features': 4, 'n_estimators': 30}</td>\n",
       "      <td>-2.387153e+09</td>\n",
       "      <td>-2.588448e+09</td>\n",
       "      <td>...</td>\n",
       "      <td>-2.537877e+09</td>\n",
       "      <td>1.214603e+08</td>\n",
       "      <td>3</td>\n",
       "      <td>-3.838835e+08</td>\n",
       "      <td>-3.880268e+08</td>\n",
       "      <td>-3.790867e+08</td>\n",
       "      <td>-4.040957e+08</td>\n",
       "      <td>-3.845520e+08</td>\n",
       "      <td>-3.879289e+08</td>\n",
       "      <td>8.571233e+06</td>\n",
       "    </tr>\n",
       "    <tr>\n",
       "      <th>6</th>\n",
       "      <td>0.232171</td>\n",
       "      <td>0.054518</td>\n",
       "      <td>0.005391</td>\n",
       "      <td>0.001953</td>\n",
       "      <td>6</td>\n",
       "      <td>3</td>\n",
       "      <td>NaN</td>\n",
       "      <td>{'max_features': 6, 'n_estimators': 3}</td>\n",
       "      <td>-3.119657e+09</td>\n",
       "      <td>-3.586319e+09</td>\n",
       "      <td>...</td>\n",
       "      <td>-3.441447e+09</td>\n",
       "      <td>1.893141e+08</td>\n",
       "      <td>14</td>\n",
       "      <td>-9.245343e+08</td>\n",
       "      <td>-8.886939e+08</td>\n",
       "      <td>-9.353135e+08</td>\n",
       "      <td>-9.009801e+08</td>\n",
       "      <td>-8.624664e+08</td>\n",
       "      <td>-9.023976e+08</td>\n",
       "      <td>2.591445e+07</td>\n",
       "    </tr>\n",
       "    <tr>\n",
       "      <th>7</th>\n",
       "      <td>0.875042</td>\n",
       "      <td>0.228086</td>\n",
       "      <td>0.018324</td>\n",
       "      <td>0.010400</td>\n",
       "      <td>6</td>\n",
       "      <td>10</td>\n",
       "      <td>NaN</td>\n",
       "      <td>{'max_features': 6, 'n_estimators': 10}</td>\n",
       "      <td>-2.549663e+09</td>\n",
       "      <td>-2.782039e+09</td>\n",
       "      <td>...</td>\n",
       "      <td>-2.704640e+09</td>\n",
       "      <td>1.471542e+08</td>\n",
       "      <td>6</td>\n",
       "      <td>-4.980344e+08</td>\n",
       "      <td>-5.045869e+08</td>\n",
       "      <td>-4.994664e+08</td>\n",
       "      <td>-4.990325e+08</td>\n",
       "      <td>-5.055542e+08</td>\n",
       "      <td>-5.013349e+08</td>\n",
       "      <td>3.100456e+06</td>\n",
       "    </tr>\n",
       "    <tr>\n",
       "      <th>8</th>\n",
       "      <td>2.456416</td>\n",
       "      <td>0.138441</td>\n",
       "      <td>0.036103</td>\n",
       "      <td>0.001471</td>\n",
       "      <td>6</td>\n",
       "      <td>30</td>\n",
       "      <td>NaN</td>\n",
       "      <td>{'max_features': 6, 'n_estimators': 30}</td>\n",
       "      <td>-2.370010e+09</td>\n",
       "      <td>-2.583638e+09</td>\n",
       "      <td>...</td>\n",
       "      <td>-2.514668e+09</td>\n",
       "      <td>1.285063e+08</td>\n",
       "      <td>2</td>\n",
       "      <td>-3.838538e+08</td>\n",
       "      <td>-3.804711e+08</td>\n",
       "      <td>-3.805218e+08</td>\n",
       "      <td>-3.856095e+08</td>\n",
       "      <td>-3.901917e+08</td>\n",
       "      <td>-3.841296e+08</td>\n",
       "      <td>3.617057e+06</td>\n",
       "    </tr>\n",
       "    <tr>\n",
       "      <th>9</th>\n",
       "      <td>0.331910</td>\n",
       "      <td>0.048931</td>\n",
       "      <td>0.005003</td>\n",
       "      <td>0.001116</td>\n",
       "      <td>8</td>\n",
       "      <td>3</td>\n",
       "      <td>NaN</td>\n",
       "      <td>{'max_features': 8, 'n_estimators': 3}</td>\n",
       "      <td>-3.353504e+09</td>\n",
       "      <td>-3.348552e+09</td>\n",
       "      <td>...</td>\n",
       "      <td>-3.348851e+09</td>\n",
       "      <td>1.241864e+08</td>\n",
       "      <td>13</td>\n",
       "      <td>-9.228123e+08</td>\n",
       "      <td>-8.553031e+08</td>\n",
       "      <td>-8.603321e+08</td>\n",
       "      <td>-8.881964e+08</td>\n",
       "      <td>-9.151287e+08</td>\n",
       "      <td>-8.883545e+08</td>\n",
       "      <td>2.750227e+07</td>\n",
       "    </tr>\n",
       "    <tr>\n",
       "      <th>10</th>\n",
       "      <td>1.128749</td>\n",
       "      <td>0.259325</td>\n",
       "      <td>0.017747</td>\n",
       "      <td>0.003960</td>\n",
       "      <td>8</td>\n",
       "      <td>10</td>\n",
       "      <td>NaN</td>\n",
       "      <td>{'max_features': 8, 'n_estimators': 10}</td>\n",
       "      <td>-2.571970e+09</td>\n",
       "      <td>-2.718994e+09</td>\n",
       "      <td>...</td>\n",
       "      <td>-2.674037e+09</td>\n",
       "      <td>1.392720e+08</td>\n",
       "      <td>5</td>\n",
       "      <td>-4.932416e+08</td>\n",
       "      <td>-4.815238e+08</td>\n",
       "      <td>-4.730979e+08</td>\n",
       "      <td>-5.155367e+08</td>\n",
       "      <td>-4.985555e+08</td>\n",
       "      <td>-4.923911e+08</td>\n",
       "      <td>1.459294e+07</td>\n",
       "    </tr>\n",
       "    <tr>\n",
       "      <th>11</th>\n",
       "      <td>3.458956</td>\n",
       "      <td>0.490555</td>\n",
       "      <td>0.054058</td>\n",
       "      <td>0.010575</td>\n",
       "      <td>8</td>\n",
       "      <td>30</td>\n",
       "      <td>NaN</td>\n",
       "      <td>{'max_features': 8, 'n_estimators': 30}</td>\n",
       "      <td>-2.357390e+09</td>\n",
       "      <td>-2.546640e+09</td>\n",
       "      <td>...</td>\n",
       "      <td>-2.468326e+09</td>\n",
       "      <td>1.091647e+08</td>\n",
       "      <td>1</td>\n",
       "      <td>-3.841658e+08</td>\n",
       "      <td>-3.744500e+08</td>\n",
       "      <td>-3.773239e+08</td>\n",
       "      <td>-3.882250e+08</td>\n",
       "      <td>-3.810005e+08</td>\n",
       "      <td>-3.810330e+08</td>\n",
       "      <td>4.871017e+06</td>\n",
       "    </tr>\n",
       "    <tr>\n",
       "      <th>12</th>\n",
       "      <td>0.176709</td>\n",
       "      <td>0.027075</td>\n",
       "      <td>0.005776</td>\n",
       "      <td>0.000907</td>\n",
       "      <td>2</td>\n",
       "      <td>3</td>\n",
       "      <td>False</td>\n",
       "      <td>{'bootstrap': False, 'max_features': 2, 'n_est...</td>\n",
       "      <td>-3.785816e+09</td>\n",
       "      <td>-4.166012e+09</td>\n",
       "      <td>...</td>\n",
       "      <td>-3.955792e+09</td>\n",
       "      <td>1.900966e+08</td>\n",
       "      <td>17</td>\n",
       "      <td>-0.000000e+00</td>\n",
       "      <td>-0.000000e+00</td>\n",
       "      <td>-0.000000e+00</td>\n",
       "      <td>-0.000000e+00</td>\n",
       "      <td>-0.000000e+00</td>\n",
       "      <td>0.000000e+00</td>\n",
       "      <td>0.000000e+00</td>\n",
       "    </tr>\n",
       "    <tr>\n",
       "      <th>13</th>\n",
       "      <td>0.670843</td>\n",
       "      <td>0.156158</td>\n",
       "      <td>0.021960</td>\n",
       "      <td>0.012926</td>\n",
       "      <td>2</td>\n",
       "      <td>10</td>\n",
       "      <td>False</td>\n",
       "      <td>{'bootstrap': False, 'max_features': 2, 'n_est...</td>\n",
       "      <td>-2.810721e+09</td>\n",
       "      <td>-3.107789e+09</td>\n",
       "      <td>...</td>\n",
       "      <td>-2.987513e+09</td>\n",
       "      <td>1.539231e+08</td>\n",
       "      <td>10</td>\n",
       "      <td>-6.056477e-02</td>\n",
       "      <td>-0.000000e+00</td>\n",
       "      <td>-0.000000e+00</td>\n",
       "      <td>-0.000000e+00</td>\n",
       "      <td>-2.967449e+00</td>\n",
       "      <td>-6.056027e-01</td>\n",
       "      <td>1.181156e+00</td>\n",
       "    </tr>\n",
       "    <tr>\n",
       "      <th>14</th>\n",
       "      <td>0.223009</td>\n",
       "      <td>0.014172</td>\n",
       "      <td>0.006203</td>\n",
       "      <td>0.001432</td>\n",
       "      <td>3</td>\n",
       "      <td>3</td>\n",
       "      <td>False</td>\n",
       "      <td>{'bootstrap': False, 'max_features': 3, 'n_est...</td>\n",
       "      <td>-3.618324e+09</td>\n",
       "      <td>-3.441527e+09</td>\n",
       "      <td>...</td>\n",
       "      <td>-3.536728e+09</td>\n",
       "      <td>7.795196e+07</td>\n",
       "      <td>15</td>\n",
       "      <td>-0.000000e+00</td>\n",
       "      <td>-0.000000e+00</td>\n",
       "      <td>-0.000000e+00</td>\n",
       "      <td>-0.000000e+00</td>\n",
       "      <td>-6.072840e+01</td>\n",
       "      <td>-1.214568e+01</td>\n",
       "      <td>2.429136e+01</td>\n",
       "    </tr>\n",
       "    <tr>\n",
       "      <th>15</th>\n",
       "      <td>0.864691</td>\n",
       "      <td>0.056069</td>\n",
       "      <td>0.016560</td>\n",
       "      <td>0.003538</td>\n",
       "      <td>3</td>\n",
       "      <td>10</td>\n",
       "      <td>False</td>\n",
       "      <td>{'bootstrap': False, 'max_features': 3, 'n_est...</td>\n",
       "      <td>-2.757999e+09</td>\n",
       "      <td>-2.851737e+09</td>\n",
       "      <td>...</td>\n",
       "      <td>-2.779927e+09</td>\n",
       "      <td>6.286611e+07</td>\n",
       "      <td>7</td>\n",
       "      <td>-2.089484e+01</td>\n",
       "      <td>-0.000000e+00</td>\n",
       "      <td>-0.000000e+00</td>\n",
       "      <td>-0.000000e+00</td>\n",
       "      <td>-5.465556e+00</td>\n",
       "      <td>-5.272080e+00</td>\n",
       "      <td>8.093117e+00</td>\n",
       "    </tr>\n",
       "    <tr>\n",
       "      <th>16</th>\n",
       "      <td>0.308969</td>\n",
       "      <td>0.029741</td>\n",
       "      <td>0.005778</td>\n",
       "      <td>0.001446</td>\n",
       "      <td>4</td>\n",
       "      <td>3</td>\n",
       "      <td>False</td>\n",
       "      <td>{'bootstrap': False, 'max_features': 4, 'n_est...</td>\n",
       "      <td>-3.134040e+09</td>\n",
       "      <td>-3.559375e+09</td>\n",
       "      <td>...</td>\n",
       "      <td>-3.305171e+09</td>\n",
       "      <td>1.879203e+08</td>\n",
       "      <td>12</td>\n",
       "      <td>-0.000000e+00</td>\n",
       "      <td>-0.000000e+00</td>\n",
       "      <td>-0.000000e+00</td>\n",
       "      <td>-0.000000e+00</td>\n",
       "      <td>-0.000000e+00</td>\n",
       "      <td>0.000000e+00</td>\n",
       "      <td>0.000000e+00</td>\n",
       "    </tr>\n",
       "    <tr>\n",
       "      <th>17</th>\n",
       "      <td>0.944784</td>\n",
       "      <td>0.099758</td>\n",
       "      <td>0.019773</td>\n",
       "      <td>0.004789</td>\n",
       "      <td>4</td>\n",
       "      <td>10</td>\n",
       "      <td>False</td>\n",
       "      <td>{'bootstrap': False, 'max_features': 4, 'n_est...</td>\n",
       "      <td>-2.525578e+09</td>\n",
       "      <td>-2.710011e+09</td>\n",
       "      <td>...</td>\n",
       "      <td>-2.601971e+09</td>\n",
       "      <td>1.088031e+08</td>\n",
       "      <td>4</td>\n",
       "      <td>-0.000000e+00</td>\n",
       "      <td>-1.514119e-02</td>\n",
       "      <td>-0.000000e+00</td>\n",
       "      <td>-0.000000e+00</td>\n",
       "      <td>-0.000000e+00</td>\n",
       "      <td>-3.028238e-03</td>\n",
       "      <td>6.056477e-03</td>\n",
       "    </tr>\n",
       "  </tbody>\n",
       "</table>\n",
       "<p>18 rows × 23 columns</p>\n",
       "</div>"
      ],
      "text/plain": [
       "    mean_fit_time  std_fit_time  mean_score_time  std_score_time  \\\n",
       "0        0.111528      0.016180         0.005775        0.001154   \n",
       "1        0.349272      0.027757         0.015780        0.004720   \n",
       "2        1.035448      0.120586         0.040075        0.005592   \n",
       "3        0.164208      0.027272         0.005333        0.001310   \n",
       "4        0.562393      0.058881         0.016179        0.003933   \n",
       "5        1.705204      0.131183         0.037301        0.005921   \n",
       "6        0.232171      0.054518         0.005391        0.001953   \n",
       "7        0.875042      0.228086         0.018324        0.010400   \n",
       "8        2.456416      0.138441         0.036103        0.001471   \n",
       "9        0.331910      0.048931         0.005003        0.001116   \n",
       "10       1.128749      0.259325         0.017747        0.003960   \n",
       "11       3.458956      0.490555         0.054058        0.010575   \n",
       "12       0.176709      0.027075         0.005776        0.000907   \n",
       "13       0.670843      0.156158         0.021960        0.012926   \n",
       "14       0.223009      0.014172         0.006203        0.001432   \n",
       "15       0.864691      0.056069         0.016560        0.003538   \n",
       "16       0.308969      0.029741         0.005778        0.001446   \n",
       "17       0.944784      0.099758         0.019773        0.004789   \n",
       "\n",
       "   param_max_features param_n_estimators param_bootstrap  \\\n",
       "0                   2                  3             NaN   \n",
       "1                   2                 10             NaN   \n",
       "2                   2                 30             NaN   \n",
       "3                   4                  3             NaN   \n",
       "4                   4                 10             NaN   \n",
       "5                   4                 30             NaN   \n",
       "6                   6                  3             NaN   \n",
       "7                   6                 10             NaN   \n",
       "8                   6                 30             NaN   \n",
       "9                   8                  3             NaN   \n",
       "10                  8                 10             NaN   \n",
       "11                  8                 30             NaN   \n",
       "12                  2                  3           False   \n",
       "13                  2                 10           False   \n",
       "14                  3                  3           False   \n",
       "15                  3                 10           False   \n",
       "16                  4                  3           False   \n",
       "17                  4                 10           False   \n",
       "\n",
       "                                               params  split0_test_score  \\\n",
       "0              {'max_features': 2, 'n_estimators': 3}      -3.837622e+09   \n",
       "1             {'max_features': 2, 'n_estimators': 10}      -3.047771e+09   \n",
       "2             {'max_features': 2, 'n_estimators': 30}      -2.689185e+09   \n",
       "3              {'max_features': 4, 'n_estimators': 3}      -3.730181e+09   \n",
       "4             {'max_features': 4, 'n_estimators': 10}      -2.666283e+09   \n",
       "5             {'max_features': 4, 'n_estimators': 30}      -2.387153e+09   \n",
       "6              {'max_features': 6, 'n_estimators': 3}      -3.119657e+09   \n",
       "7             {'max_features': 6, 'n_estimators': 10}      -2.549663e+09   \n",
       "8             {'max_features': 6, 'n_estimators': 30}      -2.370010e+09   \n",
       "9              {'max_features': 8, 'n_estimators': 3}      -3.353504e+09   \n",
       "10            {'max_features': 8, 'n_estimators': 10}      -2.571970e+09   \n",
       "11            {'max_features': 8, 'n_estimators': 30}      -2.357390e+09   \n",
       "12  {'bootstrap': False, 'max_features': 2, 'n_est...      -3.785816e+09   \n",
       "13  {'bootstrap': False, 'max_features': 2, 'n_est...      -2.810721e+09   \n",
       "14  {'bootstrap': False, 'max_features': 3, 'n_est...      -3.618324e+09   \n",
       "15  {'bootstrap': False, 'max_features': 3, 'n_est...      -2.757999e+09   \n",
       "16  {'bootstrap': False, 'max_features': 4, 'n_est...      -3.134040e+09   \n",
       "17  {'bootstrap': False, 'max_features': 4, 'n_est...      -2.525578e+09   \n",
       "\n",
       "    split1_test_score  ...  mean_test_score  std_test_score  rank_test_score  \\\n",
       "0       -4.147108e+09  ...    -4.053749e+09    1.519609e+08               18   \n",
       "1       -3.254861e+09  ...    -3.094381e+09    1.327046e+08               11   \n",
       "2       -3.021086e+09  ...    -2.849913e+09    1.626879e+08                9   \n",
       "3       -3.786886e+09  ...    -3.716852e+09    1.631421e+08               16   \n",
       "4       -2.784511e+09  ...    -2.781611e+09    1.268562e+08                8   \n",
       "5       -2.588448e+09  ...    -2.537877e+09    1.214603e+08                3   \n",
       "6       -3.586319e+09  ...    -3.441447e+09    1.893141e+08               14   \n",
       "7       -2.782039e+09  ...    -2.704640e+09    1.471542e+08                6   \n",
       "8       -2.583638e+09  ...    -2.514668e+09    1.285063e+08                2   \n",
       "9       -3.348552e+09  ...    -3.348851e+09    1.241864e+08               13   \n",
       "10      -2.718994e+09  ...    -2.674037e+09    1.392720e+08                5   \n",
       "11      -2.546640e+09  ...    -2.468326e+09    1.091647e+08                1   \n",
       "12      -4.166012e+09  ...    -3.955792e+09    1.900966e+08               17   \n",
       "13      -3.107789e+09  ...    -2.987513e+09    1.539231e+08               10   \n",
       "14      -3.441527e+09  ...    -3.536728e+09    7.795196e+07               15   \n",
       "15      -2.851737e+09  ...    -2.779927e+09    6.286611e+07                7   \n",
       "16      -3.559375e+09  ...    -3.305171e+09    1.879203e+08               12   \n",
       "17      -2.710011e+09  ...    -2.601971e+09    1.088031e+08                4   \n",
       "\n",
       "    split0_train_score  split1_train_score  split2_train_score  \\\n",
       "0        -1.064113e+09       -1.105142e+09       -1.116550e+09   \n",
       "1        -5.927175e+08       -5.870952e+08       -5.776964e+08   \n",
       "2        -4.381089e+08       -4.391272e+08       -4.371702e+08   \n",
       "3        -9.865163e+08       -1.012565e+09       -9.169425e+08   \n",
       "4        -5.097115e+08       -5.162820e+08       -4.962893e+08   \n",
       "5        -3.838835e+08       -3.880268e+08       -3.790867e+08   \n",
       "6        -9.245343e+08       -8.886939e+08       -9.353135e+08   \n",
       "7        -4.980344e+08       -5.045869e+08       -4.994664e+08   \n",
       "8        -3.838538e+08       -3.804711e+08       -3.805218e+08   \n",
       "9        -9.228123e+08       -8.553031e+08       -8.603321e+08   \n",
       "10       -4.932416e+08       -4.815238e+08       -4.730979e+08   \n",
       "11       -3.841658e+08       -3.744500e+08       -3.773239e+08   \n",
       "12       -0.000000e+00       -0.000000e+00       -0.000000e+00   \n",
       "13       -6.056477e-02       -0.000000e+00       -0.000000e+00   \n",
       "14       -0.000000e+00       -0.000000e+00       -0.000000e+00   \n",
       "15       -2.089484e+01       -0.000000e+00       -0.000000e+00   \n",
       "16       -0.000000e+00       -0.000000e+00       -0.000000e+00   \n",
       "17       -0.000000e+00       -1.514119e-02       -0.000000e+00   \n",
       "\n",
       "    split3_train_score  split4_train_score  mean_train_score  std_train_score  \n",
       "0        -1.112342e+09       -1.129650e+09     -1.105559e+09     2.220402e+07  \n",
       "1        -5.716332e+08       -5.802501e+08     -5.818785e+08     7.345821e+06  \n",
       "2        -4.376955e+08       -4.452654e+08     -4.394734e+08     2.966320e+06  \n",
       "3        -1.037400e+09       -9.707739e+08     -9.848396e+08     4.084607e+07  \n",
       "4        -5.436192e+08       -5.160297e+08     -5.163863e+08     1.542862e+07  \n",
       "5        -4.040957e+08       -3.845520e+08     -3.879289e+08     8.571233e+06  \n",
       "6        -9.009801e+08       -8.624664e+08     -9.023976e+08     2.591445e+07  \n",
       "7        -4.990325e+08       -5.055542e+08     -5.013349e+08     3.100456e+06  \n",
       "8        -3.856095e+08       -3.901917e+08     -3.841296e+08     3.617057e+06  \n",
       "9        -8.881964e+08       -9.151287e+08     -8.883545e+08     2.750227e+07  \n",
       "10       -5.155367e+08       -4.985555e+08     -4.923911e+08     1.459294e+07  \n",
       "11       -3.882250e+08       -3.810005e+08     -3.810330e+08     4.871017e+06  \n",
       "12       -0.000000e+00       -0.000000e+00      0.000000e+00     0.000000e+00  \n",
       "13       -0.000000e+00       -2.967449e+00     -6.056027e-01     1.181156e+00  \n",
       "14       -0.000000e+00       -6.072840e+01     -1.214568e+01     2.429136e+01  \n",
       "15       -0.000000e+00       -5.465556e+00     -5.272080e+00     8.093117e+00  \n",
       "16       -0.000000e+00       -0.000000e+00      0.000000e+00     0.000000e+00  \n",
       "17       -0.000000e+00       -0.000000e+00     -3.028238e-03     6.056477e-03  \n",
       "\n",
       "[18 rows x 23 columns]"
      ]
     },
     "execution_count": 439,
     "metadata": {},
     "output_type": "execute_result"
    }
   ],
   "source": [
    "#데이터프레임으로 테이블뷰로 보기\n",
    "\n",
    "pd.DataFrame(grid_search.cv_results_)"
   ]
  },
  {
   "cell_type": "markdown",
   "metadata": {
    "id": "WLrLsVhzBTFO"
   },
   "source": [
    "## 랜덤 서치 적용하기"
   ]
  },
  {
   "cell_type": "code",
   "execution_count": 440,
   "metadata": {
    "colab": {
     "base_uri": "https://localhost:8080/"
    },
    "execution": {
     "iopub.execute_input": "2021-11-03T03:37:29.852787Z",
     "iopub.status.busy": "2021-11-03T03:37:29.852190Z",
     "iopub.status.idle": "2021-11-03T03:40:42.380554Z",
     "shell.execute_reply": "2021-11-03T03:40:42.379953Z"
    },
    "executionInfo": {
     "elapsed": 200522,
     "status": "ok",
     "timestamp": 1647497467258,
     "user": {
      "displayName": "Hyung-jeong Yang",
      "photoUrl": "https://lh3.googleusercontent.com/a/default-user=s64",
      "userId": "02381304708881262053"
     },
     "user_tz": -540
    },
    "id": "18ChmIMnBTFO",
    "outputId": "9e42bd17-aa6b-48ee-fc8e-9d0a592d3dc9"
   },
   "outputs": [
    {
     "data": {
      "text/plain": [
       "RandomizedSearchCV(cv=5, error_score='raise-deprecating',\n",
       "                   estimator=RandomForestRegressor(bootstrap=True,\n",
       "                                                   criterion='mse',\n",
       "                                                   max_depth=None,\n",
       "                                                   max_features='auto',\n",
       "                                                   max_leaf_nodes=None,\n",
       "                                                   min_impurity_decrease=0.0,\n",
       "                                                   min_impurity_split=None,\n",
       "                                                   min_samples_leaf=1,\n",
       "                                                   min_samples_split=2,\n",
       "                                                   min_weight_fraction_leaf=0.0,\n",
       "                                                   n_estimators='warn',\n",
       "                                                   n_jobs=None, oob_score=False,\n",
       "                                                   random_sta...\n",
       "                                                   warm_start=False),\n",
       "                   iid='warn', n_iter=10, n_jobs=None,\n",
       "                   param_distributions={'max_features': <scipy.stats._distn_infrastructure.rv_frozen object at 0x000002F992297828>,\n",
       "                                        'n_estimators': <scipy.stats._distn_infrastructure.rv_frozen object at 0x000002F992060518>},\n",
       "                   pre_dispatch='2*n_jobs', random_state=42, refit=True,\n",
       "                   return_train_score=False, scoring='neg_mean_squared_error',\n",
       "                   verbose=0)"
      ]
     },
     "execution_count": 440,
     "metadata": {},
     "output_type": "execute_result"
    }
   ],
   "source": [
    "# 랜덤하게 탐색공간을 탐색\n",
    "# 탐색공간이 클 경우 그리드서치보다 추천\n",
    "# 설정값이 연속형일 경우 추천\n",
    "# 사이파이의 randint를 이용하여 범위내의 정수값을 균등분포로 추출 \n",
    "\n",
    "from sklearn.model_selection import RandomizedSearchCV\n",
    "from scipy.stats import randint\n",
    "\n",
    "param_distribs = {\n",
    "        'n_estimators': randint(low=1, high=200),\n",
    "        'max_features': randint(low=1, high=8),\n",
    "    }\n",
    "\n",
    "# 탐색 반복수 n_iter=10 로 10번 반복\n",
    "\n",
    "forest_reg = RandomForestRegressor(random_state=42)\n",
    "rnd_search = RandomizedSearchCV(forest_reg, param_distributions=param_distribs,\n",
    "                                n_iter=10, cv=5, scoring='neg_mean_squared_error', random_state=42)\n",
    "rnd_search.fit(p182591_prepared, p182591_labels)"
   ]
  },
  {
   "cell_type": "code",
   "execution_count": 441,
   "metadata": {
    "colab": {
     "base_uri": "https://localhost:8080/"
    },
    "execution": {
     "iopub.execute_input": "2021-11-03T03:40:42.387876Z",
     "iopub.status.busy": "2021-11-03T03:40:42.386678Z",
     "iopub.status.idle": "2021-11-03T03:40:42.390005Z",
     "shell.execute_reply": "2021-11-03T03:40:42.389475Z"
    },
    "executionInfo": {
     "elapsed": 60,
     "status": "ok",
     "timestamp": 1647497467259,
     "user": {
      "displayName": "Hyung-jeong Yang",
      "photoUrl": "https://lh3.googleusercontent.com/a/default-user=s64",
      "userId": "02381304708881262053"
     },
     "user_tz": -540
    },
    "id": "pENoZMCuBTFP",
    "outputId": "de02487f-5c38-4019-d4b5-494f2b78f37c"
   },
   "outputs": [
    {
     "name": "stdout",
     "output_type": "stream",
     "text": [
      "49150.657232934034 {'max_features': 7, 'n_estimators': 180}\n",
      "51389.85295710133 {'max_features': 5, 'n_estimators': 15}\n",
      "50796.12045980556 {'max_features': 3, 'n_estimators': 72}\n",
      "50835.09932039744 {'max_features': 5, 'n_estimators': 21}\n",
      "49280.90117886215 {'max_features': 7, 'n_estimators': 122}\n",
      "50774.86679035961 {'max_features': 3, 'n_estimators': 75}\n",
      "50682.75001237282 {'max_features': 3, 'n_estimators': 88}\n",
      "49608.94061293652 {'max_features': 5, 'n_estimators': 100}\n",
      "50473.57642831875 {'max_features': 3, 'n_estimators': 150}\n",
      "64429.763804893395 {'max_features': 5, 'n_estimators': 2}\n"
     ]
    }
   ],
   "source": [
    "#랜덤서치 점수확인하기 \n",
    "cvres = rnd_search.cv_results_\n",
    "for mean_score, params in zip(cvres[\"mean_test_score\"], cvres[\"params\"]):\n",
    "    print(np.sqrt(-mean_score), params)"
   ]
  },
  {
   "cell_type": "markdown",
   "metadata": {
    "id": "WE7CbuFEBTFP"
   },
   "source": [
    "## 최상의 모델과 오차 분석"
   ]
  },
  {
   "cell_type": "code",
   "execution_count": 442,
   "metadata": {
    "colab": {
     "base_uri": "https://localhost:8080/"
    },
    "execution": {
     "iopub.execute_input": "2021-11-03T03:40:42.393844Z",
     "iopub.status.busy": "2021-11-03T03:40:42.393219Z",
     "iopub.status.idle": "2021-11-03T03:40:42.407846Z",
     "shell.execute_reply": "2021-11-03T03:40:42.408273Z"
    },
    "executionInfo": {
     "elapsed": 58,
     "status": "ok",
     "timestamp": 1647497467260,
     "user": {
      "displayName": "Hyung-jeong Yang",
      "photoUrl": "https://lh3.googleusercontent.com/a/default-user=s64",
      "userId": "02381304708881262053"
     },
     "user_tz": -540
    },
    "id": "cT7Axwr-BTFP",
    "outputId": "7114cd47-fdbe-4e98-88ec-8da7040aaf84"
   },
   "outputs": [
    {
     "data": {
      "text/plain": [
       "array([7.33442355e-02, 6.29090705e-02, 4.11437985e-02, 1.46726854e-02,\n",
       "       1.41064835e-02, 1.48742809e-02, 1.42575993e-02, 3.66158981e-01,\n",
       "       5.64191792e-02, 1.08792957e-01, 5.33510773e-02, 1.03114883e-02,\n",
       "       1.64780994e-01, 6.02803867e-05, 1.96041560e-03, 2.85647464e-03])"
      ]
     },
     "execution_count": 442,
     "metadata": {},
     "output_type": "execute_result"
    }
   ],
   "source": [
    "# 그리드 서치로 찾은 특성 중요도 보기\n",
    "\n",
    "feature_importances = grid_search.best_estimator_.feature_importances_\n",
    "feature_importances"
   ]
  },
  {
   "cell_type": "code",
   "execution_count": 443,
   "metadata": {
    "colab": {
     "base_uri": "https://localhost:8080/"
    },
    "execution": {
     "iopub.execute_input": "2021-11-03T03:40:42.414163Z",
     "iopub.status.busy": "2021-11-03T03:40:42.413552Z",
     "iopub.status.idle": "2021-11-03T03:40:42.417100Z",
     "shell.execute_reply": "2021-11-03T03:40:42.416553Z"
    },
    "executionInfo": {
     "elapsed": 52,
     "status": "ok",
     "timestamp": 1647497467261,
     "user": {
      "displayName": "Hyung-jeong Yang",
      "photoUrl": "https://lh3.googleusercontent.com/a/default-user=s64",
      "userId": "02381304708881262053"
     },
     "user_tz": -540
    },
    "id": "dnNliXJpBTFP",
    "outputId": "ebc40a4b-79c4-49c2-fd31-48661a13681a",
    "scrolled": true
   },
   "outputs": [
    {
     "data": {
      "text/plain": [
       "[(0.36615898061813423, 'median_income'),\n",
       " (0.16478099356159054, 'INLAND'),\n",
       " (0.10879295677551575, 'pop_per_hhold'),\n",
       " (0.07334423551601243, 'longitude'),\n",
       " (0.06290907048262032, 'latitude'),\n",
       " (0.056419179181954014, 'rooms_per_hhold'),\n",
       " (0.053351077347675815, 'bedrooms_per_room'),\n",
       " (0.04114379847872964, 'housing_median_age'),\n",
       " (0.014874280890402769, 'population'),\n",
       " (0.014672685420543239, 'total_rooms'),\n",
       " (0.014257599323407808, 'households'),\n",
       " (0.014106483453584104, 'total_bedrooms'),\n",
       " (0.010311488326303788, '<1H OCEAN'),\n",
       " (0.0028564746373201584, 'NEAR OCEAN'),\n",
       " (0.0019604155994780706, 'NEAR BAY'),\n",
       " (6.0280386727366e-05, 'ISLAND')]"
      ]
     },
     "execution_count": 443,
     "metadata": {},
     "output_type": "execute_result"
    }
   ],
   "source": [
    "# 새로 추가한 특성\n",
    "\n",
    "extra_attribs = [\"rooms_per_hhold\", \"pop_per_hhold\", \"bedrooms_per_room\"]\n",
    "#cat_encoder = cat_pipeline.named_steps[\"cat_encoder\"] # 예전 방식\n",
    "\n",
    "# named_transformers : 파이프라인에서 특정 특징 참조\n",
    "# cat : 범주형 특성을 원핫인코더로 변경하는 클래스 \n",
    "\n",
    "cat_encoder = full_pipeline.named_transformers_[\"cat\"]\n",
    "\n",
    "# 원핫인코딩의 카테고리의 특성 추출\n",
    "# ocien_proximity\n",
    "\n",
    "cat_one_hot_attribs = list(cat_encoder.categories_[0])\n",
    "\n",
    "attributes = num_attribs + extra_attribs + cat_one_hot_attribs\n",
    "\n",
    "# sort 하여 특징의 중요도 보여주기\n",
    "\n",
    "sorted(zip(feature_importances, attributes), reverse=True)\n",
    "\n",
    "# median_income, inland, pop_per_hhold 등이 좋은 특징\n",
    "# 범주형 값이 좋은 결과를 보여주지 못해 삭제 가능"
   ]
  },
  {
   "cell_type": "markdown",
   "metadata": {
    "id": "NWfDWvgiBTFP"
   },
   "source": [
    "## 결과 출력하기"
   ]
  },
  {
   "cell_type": "code",
   "execution_count": 444,
   "metadata": {
    "execution": {
     "iopub.execute_input": "2021-11-03T03:40:42.422941Z",
     "iopub.status.busy": "2021-11-03T03:40:42.422046Z",
     "iopub.status.idle": "2021-11-03T03:40:42.474412Z",
     "shell.execute_reply": "2021-11-03T03:40:42.473784Z"
    },
    "executionInfo": {
     "elapsed": 48,
     "status": "ok",
     "timestamp": 1647497467262,
     "user": {
      "displayName": "Hyung-jeong Yang",
      "photoUrl": "https://lh3.googleusercontent.com/a/default-user=s64",
      "userId": "02381304708881262053"
     },
     "user_tz": -540
    },
    "id": "-hI9lf9mBTFP"
   },
   "outputs": [],
   "source": [
    "#그리드서치로 찾은 최상의 모델 적용하기 \n",
    "final_model = grid_search.best_estimator_\n",
    "\n",
    "X_test = strat_test_set.drop(\"median_house_value\", axis=1)\n",
    "y_test = strat_test_set[\"median_house_value\"].copy()\n",
    "\n",
    "# 테스트세트에 만들어놓은 파이프라인 적용하기 \n",
    "X_test_prepared = full_pipeline.transform(X_test)\n",
    "final_predictions = final_model.predict(X_test_prepared)\n",
    "\n",
    "#rmse확인하기 \n",
    "final_mse = mean_squared_error(y_test, final_predictions)\n",
    "final_rmse = np.sqrt(final_mse)\n",
    "\n",
    "# 테스트 데이터에 적용한 값이 더 낮은 경우가 일반적"
   ]
  },
  {
   "cell_type": "code",
   "execution_count": 445,
   "metadata": {
    "colab": {
     "base_uri": "https://localhost:8080/"
    },
    "execution": {
     "iopub.execute_input": "2021-11-03T03:40:42.478652Z",
     "iopub.status.busy": "2021-11-03T03:40:42.478015Z",
     "iopub.status.idle": "2021-11-03T03:40:42.480772Z",
     "shell.execute_reply": "2021-11-03T03:40:42.481159Z"
    },
    "executionInfo": {
     "elapsed": 48,
     "status": "ok",
     "timestamp": 1647497467263,
     "user": {
      "displayName": "Hyung-jeong Yang",
      "photoUrl": "https://lh3.googleusercontent.com/a/default-user=s64",
      "userId": "02381304708881262053"
     },
     "user_tz": -540
    },
    "id": "P0z8QkaGBTFP",
    "outputId": "f7b01f31-c1ea-42eb-88a1-0222c7f623e8"
   },
   "outputs": [
    {
     "data": {
      "text/plain": [
       "47730.22690385927"
      ]
     },
     "execution_count": 445,
     "metadata": {},
     "output_type": "execute_result"
    }
   ],
   "source": [
    "#그리드 서치로 찾은 최종모델의 rmse확인\n",
    "final_rmse"
   ]
  },
  {
   "cell_type": "code",
   "execution_count": 446,
   "metadata": {},
   "outputs": [],
   "source": [
    "#랜덤서치로 찾은 최상의 모델 적용하기 \n",
    "final_model = rnd_search.best_estimator_\n",
    "\n",
    "X_test = strat_test_set.drop(\"median_house_value\", axis=1)\n",
    "y_test = strat_test_set[\"median_house_value\"].copy()\n",
    "\n",
    "# 테스트세트에 만들어놓은 파이프라인 적용하기 \n",
    "X_test_prepared = full_pipeline.transform(X_test)\n",
    "final_predictions = final_model.predict(X_test_prepared)\n",
    "\n",
    "#rmse확인하기 \n",
    "final_mse = mean_squared_error(y_test, final_predictions)\n",
    "final_rmse = np.sqrt(final_mse)\n",
    "\n",
    "# 테스트 데이터에 적용한 값이 더 낮은 경우가 일반적"
   ]
  },
  {
   "cell_type": "code",
   "execution_count": 447,
   "metadata": {},
   "outputs": [
    {
     "data": {
      "text/plain": [
       "46910.92117024934"
      ]
     },
     "execution_count": 447,
     "metadata": {},
     "output_type": "execute_result"
    }
   ],
   "source": [
    "#그리드 서치로 찾은 최종모델의 rmse확인\n",
    "final_rmse\n",
    "#그리드 서치로 찾은 모델이 rmse가 더 낮음을 확인"
   ]
  },
  {
   "cell_type": "code",
   "execution_count": 448,
   "metadata": {
    "colab": {
     "base_uri": "https://localhost:8080/"
    },
    "execution": {
     "iopub.execute_input": "2021-11-03T03:40:42.490181Z",
     "iopub.status.busy": "2021-11-03T03:40:42.489570Z",
     "iopub.status.idle": "2021-11-03T03:40:42.492715Z",
     "shell.execute_reply": "2021-11-03T03:40:42.492098Z"
    },
    "executionInfo": {
     "elapsed": 44,
     "status": "ok",
     "timestamp": 1647497467264,
     "user": {
      "displayName": "Hyung-jeong Yang",
      "photoUrl": "https://lh3.googleusercontent.com/a/default-user=s64",
      "userId": "02381304708881262053"
     },
     "user_tz": -540
    },
    "id": "jtghkY0HBTFQ",
    "outputId": "a2bee513-2866-4793-9841-00ef4b9cc8f0"
   },
   "outputs": [
    {
     "data": {
      "text/plain": [
       "array([44945.41068188, 48797.32686039])"
      ]
     },
     "execution_count": 448,
     "metadata": {},
     "output_type": "execute_result"
    }
   ],
   "source": [
    "#테스트 RMSE에 대한 95% 신뢰 구간을 계산하기\n",
    "from scipy import stats\n",
    "\n",
    "#95% 신뢰구간\n",
    "confidence = 0.95\n",
    "\n",
    "# 모든 샘플에 대한 제곱오차\n",
    "squared_errors = (final_predictions - y_test) ** 2\n",
    "\n",
    "# final_predictions 넘파이배열, y_test : 시리즈(판다스데이터프레임) -> 결과는 시리즈\n",
    "# squared_errors 샘플갯수\n",
    "\n",
    "np.sqrt(stats.t.interval(confidence, len(squared_errors) - 1,\n",
    "                         loc=squared_errors.mean(), #평균값\n",
    "                         scale=stats.sem(squared_errors))) # 표준오차 계산\n",
    "\n",
    "# 신뢰구간 보기 "
   ]
  },
  {
   "cell_type": "code",
   "execution_count": null,
   "metadata": {},
   "outputs": [],
   "source": []
  }
 ],
 "metadata": {
  "colab": {
   "collapsed_sections": [
    "YraNfB3JBTFR",
    "ufdjMcYmBTFS",
    "nci-hk5JBTFX",
    "8UJMKKpZBTFZ",
    "hE-4bPkMBTFa"
   ],
   "name": "02_end_to_end_machine_learning_project.ipynb의 사본",
   "provenance": [
    {
     "file_id": "https://github.com/rickiepark/handson-ml2/blob/master/02_end_to_end_machine_learning_project.ipynb",
     "timestamp": 1647304869759
    }
   ]
  },
  "kernelspec": {
   "display_name": "Python 3",
   "language": "python",
   "name": "python3"
  },
  "language_info": {
   "codemirror_mode": {
    "name": "ipython",
    "version": 3
   },
   "file_extension": ".py",
   "mimetype": "text/x-python",
   "name": "python",
   "nbconvert_exporter": "python",
   "pygments_lexer": "ipython3",
   "version": "3.7.3"
  },
  "nav_menu": {
   "height": "279px",
   "width": "309px"
  },
  "toc": {
   "nav_menu": {},
   "number_sections": true,
   "sideBar": true,
   "skip_h1_title": false,
   "toc_cell": false,
   "toc_position": {},
   "toc_section_display": "block",
   "toc_window_display": false
  }
 },
 "nbformat": 4,
 "nbformat_minor": 1
}
